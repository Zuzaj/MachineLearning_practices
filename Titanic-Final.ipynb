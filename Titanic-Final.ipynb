{
 "cells": [
  {
   "cell_type": "markdown",
   "id": "6dcf47e0",
   "metadata": {},
   "source": [
    "# Machine learning - Data preparation project"
   ]
  },
  {
   "cell_type": "markdown",
   "id": "311b1ca5",
   "metadata": {},
   "source": [
    "### Martyna Baran,  Zuzanna Jarlaczyńska"
   ]
  },
  {
   "cell_type": "markdown",
   "id": "8d29d63d",
   "metadata": {},
   "source": [
    "## Exercise 1 and 2"
   ]
  },
  {
   "cell_type": "markdown",
   "id": "f84d0e87",
   "metadata": {},
   "source": [
    "#### Titanic Dataset "
   ]
  },
  {
   "cell_type": "markdown",
   "id": "019a8274",
   "metadata": {},
   "source": [
    "DATABASE INFO\n",
    "\n",
    "author: Will Cukierski\n",
    "\n",
    "title: Titanic - Machine Learning from Disaster\n",
    "\n",
    "publisher: Kaggle\n",
    "\n",
    "year: 2012\n",
    "\n",
    "url: https://kaggle.com/competitions/titanic"
   ]
  },
  {
   "cell_type": "markdown",
   "id": "d6e6dd50",
   "metadata": {},
   "source": [
    "a) In this dataset we have 890 patterns - data of people who were in the Titanic.\n",
    "\n",
    "b) In the dataset we have 12 atributes and the class column, from which 5 are cathegorical, 4 are numerical and we also have PssengerId and the class.\n",
    "\n",
    "Our atributes are: PassengerId;   Survived - out class;   Pclass - ticket class, this feature can be use to predict the socio-economic status of passenger {1 = upper, 2= middle, 3 = lower};   Name;   Sex - male, female;   Age;   SibSp - number of siblings or sposues aboard;   Parch number of parents or children aboard;   Ticket - number of ticket;   Fare - passenger fare;  Cabin - number of cabin;   Embarked - Port of embarkation {S-Southampton, C- Cherbourg, Q - Queenstown}\n",
    "\n",
    "c) Let's start working with our data. Firstly we decided to get the infromation about the numerical data using desribe() and about the not-numerical using describe but with the parameters."
   ]
  },
  {
   "cell_type": "code",
   "execution_count": 1,
   "id": "3ca29aeb",
   "metadata": {},
   "outputs": [],
   "source": [
    "import pandas as pd\n",
    "import numpy as np\n",
    "import matplotlib.pyplot as plt\n",
    "%matplotlib inline\n",
    "import random\n",
    "from sklearn.preprocessing import MinMaxScaler, OneHotEncoder\n",
    "from sklearn.preprocessing import StandardScaler, RobustScaler,OneHotEncoder\n",
    "from sklearn.compose import ColumnTransformer\n",
    "from sklearn.impute import KNNImputer\n",
    "from sklearn.preprocessing import OneHotEncoder\n",
    "from sklearn.impute import SimpleImputer"
   ]
  },
  {
   "cell_type": "code",
   "execution_count": 2,
   "id": "0b4ccb05",
   "metadata": {},
   "outputs": [
    {
     "data": {
      "text/html": [
       "<div>\n",
       "<style scoped>\n",
       "    .dataframe tbody tr th:only-of-type {\n",
       "        vertical-align: middle;\n",
       "    }\n",
       "\n",
       "    .dataframe tbody tr th {\n",
       "        vertical-align: top;\n",
       "    }\n",
       "\n",
       "    .dataframe thead th {\n",
       "        text-align: right;\n",
       "    }\n",
       "</style>\n",
       "<table border=\"1\" class=\"dataframe\">\n",
       "  <thead>\n",
       "    <tr style=\"text-align: right;\">\n",
       "      <th></th>\n",
       "      <th>PassengerId</th>\n",
       "      <th>Survived</th>\n",
       "      <th>Pclass</th>\n",
       "      <th>Name</th>\n",
       "      <th>Sex</th>\n",
       "      <th>Age</th>\n",
       "      <th>SibSp</th>\n",
       "      <th>Parch</th>\n",
       "      <th>Ticket</th>\n",
       "      <th>Fare</th>\n",
       "      <th>Cabin</th>\n",
       "      <th>Embarked</th>\n",
       "    </tr>\n",
       "  </thead>\n",
       "  <tbody>\n",
       "    <tr>\n",
       "      <th>0</th>\n",
       "      <td>PassengerId</td>\n",
       "      <td>Survived</td>\n",
       "      <td>Pclass</td>\n",
       "      <td>Name</td>\n",
       "      <td>Sex</td>\n",
       "      <td>Age</td>\n",
       "      <td>SibSp</td>\n",
       "      <td>Parch</td>\n",
       "      <td>Ticket</td>\n",
       "      <td>Fare</td>\n",
       "      <td>Cabin</td>\n",
       "      <td>Embarked</td>\n",
       "    </tr>\n",
       "    <tr>\n",
       "      <th>1</th>\n",
       "      <td>1</td>\n",
       "      <td>0</td>\n",
       "      <td>3</td>\n",
       "      <td>Braund, Mr. Owen Harris</td>\n",
       "      <td>male</td>\n",
       "      <td>22</td>\n",
       "      <td>1</td>\n",
       "      <td>0</td>\n",
       "      <td>A/5 21171</td>\n",
       "      <td>7.25</td>\n",
       "      <td>NaN</td>\n",
       "      <td>S</td>\n",
       "    </tr>\n",
       "    <tr>\n",
       "      <th>2</th>\n",
       "      <td>2</td>\n",
       "      <td>1</td>\n",
       "      <td>1</td>\n",
       "      <td>Cumings, Mrs. John Bradley (Florence Briggs Th...</td>\n",
       "      <td>female</td>\n",
       "      <td>38</td>\n",
       "      <td>1</td>\n",
       "      <td>0</td>\n",
       "      <td>PC 17599</td>\n",
       "      <td>71.2833</td>\n",
       "      <td>C85</td>\n",
       "      <td>C</td>\n",
       "    </tr>\n",
       "    <tr>\n",
       "      <th>3</th>\n",
       "      <td>3</td>\n",
       "      <td>1</td>\n",
       "      <td>3</td>\n",
       "      <td>Heikkinen, Miss. Laina</td>\n",
       "      <td>female</td>\n",
       "      <td>26</td>\n",
       "      <td>0</td>\n",
       "      <td>0</td>\n",
       "      <td>STON/O2. 3101282</td>\n",
       "      <td>7.925</td>\n",
       "      <td>NaN</td>\n",
       "      <td>S</td>\n",
       "    </tr>\n",
       "    <tr>\n",
       "      <th>4</th>\n",
       "      <td>4</td>\n",
       "      <td>1</td>\n",
       "      <td>1</td>\n",
       "      <td>Futrelle, Mrs. Jacques Heath (Lily May Peel)</td>\n",
       "      <td>female</td>\n",
       "      <td>35</td>\n",
       "      <td>1</td>\n",
       "      <td>0</td>\n",
       "      <td>113803</td>\n",
       "      <td>53.1</td>\n",
       "      <td>C123</td>\n",
       "      <td>S</td>\n",
       "    </tr>\n",
       "    <tr>\n",
       "      <th>...</th>\n",
       "      <td>...</td>\n",
       "      <td>...</td>\n",
       "      <td>...</td>\n",
       "      <td>...</td>\n",
       "      <td>...</td>\n",
       "      <td>...</td>\n",
       "      <td>...</td>\n",
       "      <td>...</td>\n",
       "      <td>...</td>\n",
       "      <td>...</td>\n",
       "      <td>...</td>\n",
       "      <td>...</td>\n",
       "    </tr>\n",
       "    <tr>\n",
       "      <th>887</th>\n",
       "      <td>887</td>\n",
       "      <td>0</td>\n",
       "      <td>2</td>\n",
       "      <td>Montvila, Rev. Juozas</td>\n",
       "      <td>male</td>\n",
       "      <td>27</td>\n",
       "      <td>0</td>\n",
       "      <td>0</td>\n",
       "      <td>211536</td>\n",
       "      <td>13</td>\n",
       "      <td>NaN</td>\n",
       "      <td>S</td>\n",
       "    </tr>\n",
       "    <tr>\n",
       "      <th>888</th>\n",
       "      <td>888</td>\n",
       "      <td>1</td>\n",
       "      <td>1</td>\n",
       "      <td>Graham, Miss. Margaret Edith</td>\n",
       "      <td>female</td>\n",
       "      <td>19</td>\n",
       "      <td>0</td>\n",
       "      <td>0</td>\n",
       "      <td>112053</td>\n",
       "      <td>30</td>\n",
       "      <td>B42</td>\n",
       "      <td>S</td>\n",
       "    </tr>\n",
       "    <tr>\n",
       "      <th>889</th>\n",
       "      <td>889</td>\n",
       "      <td>0</td>\n",
       "      <td>3</td>\n",
       "      <td>Johnston, Miss. Catherine Helen \"Carrie\"</td>\n",
       "      <td>female</td>\n",
       "      <td>NaN</td>\n",
       "      <td>1</td>\n",
       "      <td>2</td>\n",
       "      <td>W./C. 6607</td>\n",
       "      <td>23.45</td>\n",
       "      <td>NaN</td>\n",
       "      <td>S</td>\n",
       "    </tr>\n",
       "    <tr>\n",
       "      <th>890</th>\n",
       "      <td>890</td>\n",
       "      <td>1</td>\n",
       "      <td>1</td>\n",
       "      <td>Behr, Mr. Karl Howell</td>\n",
       "      <td>male</td>\n",
       "      <td>26</td>\n",
       "      <td>0</td>\n",
       "      <td>0</td>\n",
       "      <td>111369</td>\n",
       "      <td>30</td>\n",
       "      <td>C148</td>\n",
       "      <td>C</td>\n",
       "    </tr>\n",
       "    <tr>\n",
       "      <th>891</th>\n",
       "      <td>891</td>\n",
       "      <td>0</td>\n",
       "      <td>3</td>\n",
       "      <td>Dooley, Mr. Patrick</td>\n",
       "      <td>male</td>\n",
       "      <td>32</td>\n",
       "      <td>0</td>\n",
       "      <td>0</td>\n",
       "      <td>370376</td>\n",
       "      <td>7.75</td>\n",
       "      <td>NaN</td>\n",
       "      <td>Q</td>\n",
       "    </tr>\n",
       "  </tbody>\n",
       "</table>\n",
       "<p>892 rows × 12 columns</p>\n",
       "</div>"
      ],
      "text/plain": [
       "     PassengerId  Survived  Pclass  \\\n",
       "0    PassengerId  Survived  Pclass   \n",
       "1              1         0       3   \n",
       "2              2         1       1   \n",
       "3              3         1       3   \n",
       "4              4         1       1   \n",
       "..           ...       ...     ...   \n",
       "887          887         0       2   \n",
       "888          888         1       1   \n",
       "889          889         0       3   \n",
       "890          890         1       1   \n",
       "891          891         0       3   \n",
       "\n",
       "                                                  Name     Sex  Age  SibSp  \\\n",
       "0                                                 Name     Sex  Age  SibSp   \n",
       "1                              Braund, Mr. Owen Harris    male   22      1   \n",
       "2    Cumings, Mrs. John Bradley (Florence Briggs Th...  female   38      1   \n",
       "3                               Heikkinen, Miss. Laina  female   26      0   \n",
       "4         Futrelle, Mrs. Jacques Heath (Lily May Peel)  female   35      1   \n",
       "..                                                 ...     ...  ...    ...   \n",
       "887                              Montvila, Rev. Juozas    male   27      0   \n",
       "888                       Graham, Miss. Margaret Edith  female   19      0   \n",
       "889           Johnston, Miss. Catherine Helen \"Carrie\"  female  NaN      1   \n",
       "890                              Behr, Mr. Karl Howell    male   26      0   \n",
       "891                                Dooley, Mr. Patrick    male   32      0   \n",
       "\n",
       "     Parch            Ticket     Fare  Cabin  Embarked  \n",
       "0    Parch            Ticket     Fare  Cabin  Embarked  \n",
       "1        0         A/5 21171     7.25    NaN         S  \n",
       "2        0          PC 17599  71.2833    C85         C  \n",
       "3        0  STON/O2. 3101282    7.925    NaN         S  \n",
       "4        0            113803     53.1   C123         S  \n",
       "..     ...               ...      ...    ...       ...  \n",
       "887      0            211536       13    NaN         S  \n",
       "888      0            112053       30    B42         S  \n",
       "889      2        W./C. 6607    23.45    NaN         S  \n",
       "890      0            111369       30   C148         C  \n",
       "891      0            370376     7.75    NaN         Q  \n",
       "\n",
       "[892 rows x 12 columns]"
      ]
     },
     "execution_count": 2,
     "metadata": {},
     "output_type": "execute_result"
    }
   ],
   "source": [
    "filename = \"train.csv\"\n",
    "col_names = ['PassengerId','Survived','Pclass','Name','Sex','Age','SibSp','Parch','Ticket','Fare','Cabin','Embarked']\n",
    "data = pd.read_csv(filename,names=col_names)\n",
    "data"
   ]
  },
  {
   "cell_type": "code",
   "execution_count": 65,
   "id": "cf112d3a",
   "metadata": {},
   "outputs": [
    {
     "data": {
      "text/html": [
       "<div>\n",
       "<style scoped>\n",
       "    .dataframe tbody tr th:only-of-type {\n",
       "        vertical-align: middle;\n",
       "    }\n",
       "\n",
       "    .dataframe tbody tr th {\n",
       "        vertical-align: top;\n",
       "    }\n",
       "\n",
       "    .dataframe thead th {\n",
       "        text-align: right;\n",
       "    }\n",
       "</style>\n",
       "<table border=\"1\" class=\"dataframe\">\n",
       "  <thead>\n",
       "    <tr style=\"text-align: right;\">\n",
       "      <th></th>\n",
       "      <th>PassengerId</th>\n",
       "      <th>Survived</th>\n",
       "      <th>Pclass</th>\n",
       "      <th>Name</th>\n",
       "      <th>Sex</th>\n",
       "      <th>Age</th>\n",
       "      <th>SibSp</th>\n",
       "      <th>Parch</th>\n",
       "      <th>Ticket</th>\n",
       "      <th>Fare</th>\n",
       "      <th>Cabin</th>\n",
       "      <th>Embarked</th>\n",
       "    </tr>\n",
       "  </thead>\n",
       "  <tbody>\n",
       "    <tr>\n",
       "      <th>count</th>\n",
       "      <td>892</td>\n",
       "      <td>892</td>\n",
       "      <td>892</td>\n",
       "      <td>892</td>\n",
       "      <td>892</td>\n",
       "      <td>715</td>\n",
       "      <td>892</td>\n",
       "      <td>892</td>\n",
       "      <td>892</td>\n",
       "      <td>892</td>\n",
       "      <td>205</td>\n",
       "      <td>890</td>\n",
       "    </tr>\n",
       "    <tr>\n",
       "      <th>unique</th>\n",
       "      <td>892</td>\n",
       "      <td>3</td>\n",
       "      <td>4</td>\n",
       "      <td>892</td>\n",
       "      <td>3</td>\n",
       "      <td>89</td>\n",
       "      <td>8</td>\n",
       "      <td>8</td>\n",
       "      <td>682</td>\n",
       "      <td>249</td>\n",
       "      <td>148</td>\n",
       "      <td>4</td>\n",
       "    </tr>\n",
       "    <tr>\n",
       "      <th>top</th>\n",
       "      <td>PassengerId</td>\n",
       "      <td>0</td>\n",
       "      <td>3</td>\n",
       "      <td>Name</td>\n",
       "      <td>male</td>\n",
       "      <td>24</td>\n",
       "      <td>0</td>\n",
       "      <td>0</td>\n",
       "      <td>1601</td>\n",
       "      <td>8.05</td>\n",
       "      <td>C23 C25 C27</td>\n",
       "      <td>S</td>\n",
       "    </tr>\n",
       "    <tr>\n",
       "      <th>freq</th>\n",
       "      <td>1</td>\n",
       "      <td>549</td>\n",
       "      <td>491</td>\n",
       "      <td>1</td>\n",
       "      <td>577</td>\n",
       "      <td>30</td>\n",
       "      <td>608</td>\n",
       "      <td>678</td>\n",
       "      <td>7</td>\n",
       "      <td>43</td>\n",
       "      <td>4</td>\n",
       "      <td>644</td>\n",
       "    </tr>\n",
       "  </tbody>\n",
       "</table>\n",
       "</div>"
      ],
      "text/plain": [
       "        PassengerId Survived Pclass  Name   Sex  Age SibSp Parch Ticket  Fare  \\\n",
       "count           892      892    892   892   892  715   892   892    892   892   \n",
       "unique          892        3      4   892     3   89     8     8    682   249   \n",
       "top     PassengerId        0      3  Name  male   24     0     0   1601  8.05   \n",
       "freq              1      549    491     1   577   30   608   678      7    43   \n",
       "\n",
       "              Cabin Embarked  \n",
       "count           205      890  \n",
       "unique          148        4  \n",
       "top     C23 C25 C27        S  \n",
       "freq              4      644  "
      ]
     },
     "execution_count": 65,
     "metadata": {},
     "output_type": "execute_result"
    }
   ],
   "source": [
    "data.describe()"
   ]
  },
  {
   "cell_type": "code",
   "execution_count": 66,
   "id": "c02d491e",
   "metadata": {},
   "outputs": [
    {
     "data": {
      "text/html": [
       "<div>\n",
       "<style scoped>\n",
       "    .dataframe tbody tr th:only-of-type {\n",
       "        vertical-align: middle;\n",
       "    }\n",
       "\n",
       "    .dataframe tbody tr th {\n",
       "        vertical-align: top;\n",
       "    }\n",
       "\n",
       "    .dataframe thead th {\n",
       "        text-align: right;\n",
       "    }\n",
       "</style>\n",
       "<table border=\"1\" class=\"dataframe\">\n",
       "  <thead>\n",
       "    <tr style=\"text-align: right;\">\n",
       "      <th></th>\n",
       "      <th>PassengerId</th>\n",
       "      <th>Survived</th>\n",
       "      <th>Pclass</th>\n",
       "      <th>Name</th>\n",
       "      <th>Sex</th>\n",
       "      <th>Age</th>\n",
       "      <th>SibSp</th>\n",
       "      <th>Parch</th>\n",
       "      <th>Ticket</th>\n",
       "      <th>Fare</th>\n",
       "      <th>Cabin</th>\n",
       "      <th>Embarked</th>\n",
       "    </tr>\n",
       "  </thead>\n",
       "  <tbody>\n",
       "    <tr>\n",
       "      <th>count</th>\n",
       "      <td>892</td>\n",
       "      <td>892</td>\n",
       "      <td>892</td>\n",
       "      <td>892</td>\n",
       "      <td>892</td>\n",
       "      <td>715</td>\n",
       "      <td>892</td>\n",
       "      <td>892</td>\n",
       "      <td>892</td>\n",
       "      <td>892</td>\n",
       "      <td>205</td>\n",
       "      <td>890</td>\n",
       "    </tr>\n",
       "    <tr>\n",
       "      <th>unique</th>\n",
       "      <td>892</td>\n",
       "      <td>3</td>\n",
       "      <td>4</td>\n",
       "      <td>892</td>\n",
       "      <td>3</td>\n",
       "      <td>89</td>\n",
       "      <td>8</td>\n",
       "      <td>8</td>\n",
       "      <td>682</td>\n",
       "      <td>249</td>\n",
       "      <td>148</td>\n",
       "      <td>4</td>\n",
       "    </tr>\n",
       "    <tr>\n",
       "      <th>top</th>\n",
       "      <td>PassengerId</td>\n",
       "      <td>0</td>\n",
       "      <td>3</td>\n",
       "      <td>Name</td>\n",
       "      <td>male</td>\n",
       "      <td>24</td>\n",
       "      <td>0</td>\n",
       "      <td>0</td>\n",
       "      <td>1601</td>\n",
       "      <td>8.05</td>\n",
       "      <td>C23 C25 C27</td>\n",
       "      <td>S</td>\n",
       "    </tr>\n",
       "    <tr>\n",
       "      <th>freq</th>\n",
       "      <td>1</td>\n",
       "      <td>549</td>\n",
       "      <td>491</td>\n",
       "      <td>1</td>\n",
       "      <td>577</td>\n",
       "      <td>30</td>\n",
       "      <td>608</td>\n",
       "      <td>678</td>\n",
       "      <td>7</td>\n",
       "      <td>43</td>\n",
       "      <td>4</td>\n",
       "      <td>644</td>\n",
       "    </tr>\n",
       "  </tbody>\n",
       "</table>\n",
       "</div>"
      ],
      "text/plain": [
       "        PassengerId Survived Pclass  Name   Sex  Age SibSp Parch Ticket  Fare  \\\n",
       "count           892      892    892   892   892  715   892   892    892   892   \n",
       "unique          892        3      4   892     3   89     8     8    682   249   \n",
       "top     PassengerId        0      3  Name  male   24     0     0   1601  8.05   \n",
       "freq              1      549    491     1   577   30   608   678      7    43   \n",
       "\n",
       "              Cabin Embarked  \n",
       "count           205      890  \n",
       "unique          148        4  \n",
       "top     C23 C25 C27        S  \n",
       "freq              4      644  "
      ]
     },
     "execution_count": 66,
     "metadata": {},
     "output_type": "execute_result"
    }
   ],
   "source": [
    "data.describe(include=['O'])"
   ]
  },
  {
   "cell_type": "code",
   "execution_count": 80,
   "id": "04892812",
   "metadata": {},
   "outputs": [
    {
     "ename": "TypeError",
     "evalue": "'Index' object is not callable",
     "output_type": "error",
     "traceback": [
      "\u001b[0;31m---------------------------------------------------------------------------\u001b[0m",
      "\u001b[0;31mTypeError\u001b[0m                                 Traceback (most recent call last)",
      "Cell \u001b[0;32mIn[80], line 2\u001b[0m\n\u001b[1;32m      1\u001b[0m numerical_columns \u001b[38;5;241m=\u001b[39m [\u001b[38;5;124m'\u001b[39m\u001b[38;5;124mPclass\u001b[39m\u001b[38;5;124m'\u001b[39m, \u001b[38;5;124m'\u001b[39m\u001b[38;5;124mAge\u001b[39m\u001b[38;5;124m'\u001b[39m, \u001b[38;5;124m'\u001b[39m\u001b[38;5;124mSibSp\u001b[39m\u001b[38;5;124m'\u001b[39m, \u001b[38;5;124m'\u001b[39m\u001b[38;5;124mParch\u001b[39m\u001b[38;5;124m'\u001b[39m, \u001b[38;5;124m'\u001b[39m\u001b[38;5;124mFare\u001b[39m\u001b[38;5;124m'\u001b[39m ]\n\u001b[0;32m----> 2\u001b[0m numerical_data \u001b[38;5;241m=\u001b[39m data[data\u001b[38;5;241m.\u001b[39mcolumns(numerical_columns)]\n\u001b[1;32m      3\u001b[0m numerical_data\u001b[38;5;241m.\u001b[39mhead()\n",
      "\u001b[0;31mTypeError\u001b[0m: 'Index' object is not callable"
     ]
    }
   ],
   "source": [
    "numerical_columns = ['Pclass', 'Age', 'SibSp', 'Parch', 'Fare' ]\n",
    "numerical_data = data[data.columns(numerical_columns)]\n",
    "numerical_data.head()"
   ]
  },
  {
   "cell_type": "code",
   "execution_count": 79,
   "id": "5e0c3f8a",
   "metadata": {},
   "outputs": [
    {
     "ename": "TypeError",
     "evalue": "unhashable type: 'list'",
     "output_type": "error",
     "traceback": [
      "\u001b[0;31m---------------------------------------------------------------------------\u001b[0m",
      "\u001b[0;31mTypeError\u001b[0m                                 Traceback (most recent call last)",
      "Cell \u001b[0;32mIn[79], line 1\u001b[0m\n\u001b[0;32m----> 1\u001b[0m data\u001b[38;5;241m.\u001b[39mskew(numerical_columns)\n",
      "File \u001b[0;32m~/anaconda3/lib/python3.11/site-packages/pandas/core/generic.py:11869\u001b[0m, in \u001b[0;36mNDFrame._add_numeric_operations.<locals>.skew\u001b[0;34m(self, axis, skipna, level, numeric_only, **kwargs)\u001b[0m\n\u001b[1;32m  11851\u001b[0m \u001b[38;5;129m@doc\u001b[39m(\n\u001b[1;32m  11852\u001b[0m     _num_doc,\n\u001b[1;32m  11853\u001b[0m     desc\u001b[38;5;241m=\u001b[39m\u001b[38;5;124m\"\u001b[39m\u001b[38;5;124mReturn unbiased skew over requested axis.\u001b[39m\u001b[38;5;130;01m\\n\u001b[39;00m\u001b[38;5;130;01m\\n\u001b[39;00m\u001b[38;5;124mNormalized by N-1.\u001b[39m\u001b[38;5;124m\"\u001b[39m,\n\u001b[0;32m   (...)\u001b[0m\n\u001b[1;32m  11867\u001b[0m     \u001b[38;5;241m*\u001b[39m\u001b[38;5;241m*\u001b[39mkwargs,\n\u001b[1;32m  11868\u001b[0m ):\n\u001b[0;32m> 11869\u001b[0m     \u001b[38;5;28;01mreturn\u001b[39;00m NDFrame\u001b[38;5;241m.\u001b[39mskew(\u001b[38;5;28mself\u001b[39m, axis, skipna, level, numeric_only, \u001b[38;5;241m*\u001b[39m\u001b[38;5;241m*\u001b[39mkwargs)\n",
      "File \u001b[0;32m~/anaconda3/lib/python3.11/site-packages/pandas/core/generic.py:11425\u001b[0m, in \u001b[0;36mNDFrame.skew\u001b[0;34m(self, axis, skipna, level, numeric_only, **kwargs)\u001b[0m\n\u001b[1;32m  11417\u001b[0m \u001b[38;5;28;01mdef\u001b[39;00m \u001b[38;5;21mskew\u001b[39m(\n\u001b[1;32m  11418\u001b[0m     \u001b[38;5;28mself\u001b[39m,\n\u001b[1;32m  11419\u001b[0m     axis: Axis \u001b[38;5;241m|\u001b[39m \u001b[38;5;28;01mNone\u001b[39;00m \u001b[38;5;241m|\u001b[39m lib\u001b[38;5;241m.\u001b[39mNoDefault \u001b[38;5;241m=\u001b[39m lib\u001b[38;5;241m.\u001b[39mno_default,\n\u001b[0;32m   (...)\u001b[0m\n\u001b[1;32m  11423\u001b[0m     \u001b[38;5;241m*\u001b[39m\u001b[38;5;241m*\u001b[39mkwargs,\n\u001b[1;32m  11424\u001b[0m ) \u001b[38;5;241m-\u001b[39m\u001b[38;5;241m>\u001b[39m Series \u001b[38;5;241m|\u001b[39m \u001b[38;5;28mfloat\u001b[39m:\n\u001b[0;32m> 11425\u001b[0m     \u001b[38;5;28;01mreturn\u001b[39;00m \u001b[38;5;28mself\u001b[39m\u001b[38;5;241m.\u001b[39m_stat_function(\n\u001b[1;32m  11426\u001b[0m         \u001b[38;5;124m\"\u001b[39m\u001b[38;5;124mskew\u001b[39m\u001b[38;5;124m\"\u001b[39m, nanops\u001b[38;5;241m.\u001b[39mnanskew, axis, skipna, level, numeric_only, \u001b[38;5;241m*\u001b[39m\u001b[38;5;241m*\u001b[39mkwargs\n\u001b[1;32m  11427\u001b[0m     )\n",
      "File \u001b[0;32m~/anaconda3/lib/python3.11/site-packages/pandas/core/generic.py:11353\u001b[0m, in \u001b[0;36mNDFrame._stat_function\u001b[0;34m(self, name, func, axis, skipna, level, numeric_only, **kwargs)\u001b[0m\n\u001b[1;32m  11343\u001b[0m     warnings\u001b[38;5;241m.\u001b[39mwarn(\n\u001b[1;32m  11344\u001b[0m         \u001b[38;5;124m\"\u001b[39m\u001b[38;5;124mUsing the level keyword in DataFrame and Series aggregations is \u001b[39m\u001b[38;5;124m\"\u001b[39m\n\u001b[1;32m  11345\u001b[0m         \u001b[38;5;124m\"\u001b[39m\u001b[38;5;124mdeprecated and will be removed in a future version. Use groupby \u001b[39m\u001b[38;5;124m\"\u001b[39m\n\u001b[0;32m   (...)\u001b[0m\n\u001b[1;32m  11348\u001b[0m         stacklevel\u001b[38;5;241m=\u001b[39mfind_stack_level(),\n\u001b[1;32m  11349\u001b[0m     )\n\u001b[1;32m  11350\u001b[0m     \u001b[38;5;28;01mreturn\u001b[39;00m \u001b[38;5;28mself\u001b[39m\u001b[38;5;241m.\u001b[39m_agg_by_level(\n\u001b[1;32m  11351\u001b[0m         name, axis\u001b[38;5;241m=\u001b[39maxis, level\u001b[38;5;241m=\u001b[39mlevel, skipna\u001b[38;5;241m=\u001b[39mskipna, numeric_only\u001b[38;5;241m=\u001b[39mnumeric_only\n\u001b[1;32m  11352\u001b[0m     )\n\u001b[0;32m> 11353\u001b[0m \u001b[38;5;28;01mreturn\u001b[39;00m \u001b[38;5;28mself\u001b[39m\u001b[38;5;241m.\u001b[39m_reduce(\n\u001b[1;32m  11354\u001b[0m     func, name\u001b[38;5;241m=\u001b[39mname, axis\u001b[38;5;241m=\u001b[39maxis, skipna\u001b[38;5;241m=\u001b[39mskipna, numeric_only\u001b[38;5;241m=\u001b[39mnumeric_only\n\u001b[1;32m  11355\u001b[0m )\n",
      "File \u001b[0;32m~/anaconda3/lib/python3.11/site-packages/pandas/core/frame.py:10811\u001b[0m, in \u001b[0;36mDataFrame._reduce\u001b[0;34m(self, op, name, axis, skipna, numeric_only, filter_type, **kwds)\u001b[0m\n\u001b[1;32m  10808\u001b[0m         \u001b[38;5;28mself\u001b[39m \u001b[38;5;241m=\u001b[39m \u001b[38;5;28mtype\u001b[39m(\u001b[38;5;28mself\u001b[39m)(mgr)\n\u001b[1;32m  10810\u001b[0m \u001b[38;5;66;03m# TODO: Make other agg func handle axis=None properly GH#21597\u001b[39;00m\n\u001b[0;32m> 10811\u001b[0m axis \u001b[38;5;241m=\u001b[39m \u001b[38;5;28mself\u001b[39m\u001b[38;5;241m.\u001b[39m_get_axis_number(axis)\n\u001b[1;32m  10812\u001b[0m labels \u001b[38;5;241m=\u001b[39m \u001b[38;5;28mself\u001b[39m\u001b[38;5;241m.\u001b[39m_get_agg_axis(axis)\n\u001b[1;32m  10813\u001b[0m \u001b[38;5;28;01massert\u001b[39;00m axis \u001b[38;5;129;01min\u001b[39;00m [\u001b[38;5;241m0\u001b[39m, \u001b[38;5;241m1\u001b[39m]\n",
      "File \u001b[0;32m~/anaconda3/lib/python3.11/site-packages/pandas/core/generic.py:554\u001b[0m, in \u001b[0;36mNDFrame._get_axis_number\u001b[0;34m(cls, axis)\u001b[0m\n\u001b[1;32m    550\u001b[0m \u001b[38;5;129m@final\u001b[39m\n\u001b[1;32m    551\u001b[0m \u001b[38;5;129m@classmethod\u001b[39m\n\u001b[1;32m    552\u001b[0m \u001b[38;5;28;01mdef\u001b[39;00m \u001b[38;5;21m_get_axis_number\u001b[39m(\u001b[38;5;28mcls\u001b[39m, axis: Axis) \u001b[38;5;241m-\u001b[39m\u001b[38;5;241m>\u001b[39m \u001b[38;5;28mint\u001b[39m:\n\u001b[1;32m    553\u001b[0m     \u001b[38;5;28;01mtry\u001b[39;00m:\n\u001b[0;32m--> 554\u001b[0m         \u001b[38;5;28;01mreturn\u001b[39;00m \u001b[38;5;28mcls\u001b[39m\u001b[38;5;241m.\u001b[39m_AXIS_TO_AXIS_NUMBER[axis]\n\u001b[1;32m    555\u001b[0m     \u001b[38;5;28;01mexcept\u001b[39;00m \u001b[38;5;167;01mKeyError\u001b[39;00m:\n\u001b[1;32m    556\u001b[0m         \u001b[38;5;28;01mraise\u001b[39;00m \u001b[38;5;167;01mValueError\u001b[39;00m(\u001b[38;5;124mf\u001b[39m\u001b[38;5;124m\"\u001b[39m\u001b[38;5;124mNo axis named \u001b[39m\u001b[38;5;132;01m{\u001b[39;00maxis\u001b[38;5;132;01m}\u001b[39;00m\u001b[38;5;124m for object type \u001b[39m\u001b[38;5;132;01m{\u001b[39;00m\u001b[38;5;28mcls\u001b[39m\u001b[38;5;241m.\u001b[39m\u001b[38;5;18m__name__\u001b[39m\u001b[38;5;132;01m}\u001b[39;00m\u001b[38;5;124m\"\u001b[39m)\n",
      "\u001b[0;31mTypeError\u001b[0m: unhashable type: 'list'"
     ]
    }
   ],
   "source": [
    "data.skew(numerical_columns)"
   ]
  },
  {
   "cell_type": "markdown",
   "id": "039cff93",
   "metadata": {},
   "source": [
    "d) Missing values - we can get them from the info() function."
   ]
  },
  {
   "cell_type": "code",
   "execution_count": 68,
   "id": "f29824b4",
   "metadata": {},
   "outputs": [
    {
     "name": "stdout",
     "output_type": "stream",
     "text": [
      "<class 'pandas.core.frame.DataFrame'>\n",
      "RangeIndex: 892 entries, 0 to 891\n",
      "Data columns (total 12 columns):\n",
      " #   Column       Non-Null Count  Dtype \n",
      "---  ------       --------------  ----- \n",
      " 0   PassengerId  892 non-null    object\n",
      " 1   Survived     892 non-null    object\n",
      " 2   Pclass       892 non-null    object\n",
      " 3   Name         892 non-null    object\n",
      " 4   Sex          892 non-null    object\n",
      " 5   Age          715 non-null    object\n",
      " 6   SibSp        892 non-null    object\n",
      " 7   Parch        892 non-null    object\n",
      " 8   Ticket       892 non-null    object\n",
      " 9   Fare         892 non-null    object\n",
      " 10  Cabin        205 non-null    object\n",
      " 11  Embarked     890 non-null    object\n",
      "dtypes: object(12)\n",
      "memory usage: 83.8+ KB\n"
     ]
    }
   ],
   "source": [
    "data.info()"
   ]
  },
  {
   "cell_type": "markdown",
   "id": "4db37752",
   "metadata": {},
   "source": [
    "e) Class distribution "
   ]
  },
  {
   "cell_type": "code",
   "execution_count": 69,
   "id": "9789fd3c",
   "metadata": {},
   "outputs": [
    {
     "name": "stdout",
     "output_type": "stream",
     "text": [
      "Survived\n",
      "0           549\n",
      "1           342\n",
      "Survived      1\n",
      "dtype: int64\n"
     ]
    }
   ],
   "source": [
    "print(data.groupby('Survived').size())"
   ]
  },
  {
   "cell_type": "code",
   "execution_count": 70,
   "id": "b42e3c28",
   "metadata": {},
   "outputs": [
    {
     "name": "stdout",
     "output_type": "stream",
     "text": [
      "Sex\n",
      "Sex         1\n",
      "female    314\n",
      "male      577\n",
      "dtype: int64\n"
     ]
    }
   ],
   "source": [
    "print(data.groupby('Sex').size())"
   ]
  },
  {
   "cell_type": "markdown",
   "id": "598b490d",
   "metadata": {},
   "source": [
    "f) Corelatio between classes "
   ]
  },
  {
   "cell_type": "code",
   "execution_count": 71,
   "id": "64a9ac8f",
   "metadata": {},
   "outputs": [
    {
     "name": "stderr",
     "output_type": "stream",
     "text": [
      "/var/folders/vy/zs5s6srd4vs2wd4y1r5wcbjc0000gn/T/ipykernel_5587/2627137660.py:1: FutureWarning: The default value of numeric_only in DataFrame.corr is deprecated. In a future version, it will default to False. Select only valid columns or specify the value of numeric_only to silence this warning.\n",
      "  data.corr()\n"
     ]
    },
    {
     "data": {
      "text/html": [
       "<div>\n",
       "<style scoped>\n",
       "    .dataframe tbody tr th:only-of-type {\n",
       "        vertical-align: middle;\n",
       "    }\n",
       "\n",
       "    .dataframe tbody tr th {\n",
       "        vertical-align: top;\n",
       "    }\n",
       "\n",
       "    .dataframe thead th {\n",
       "        text-align: right;\n",
       "    }\n",
       "</style>\n",
       "<table border=\"1\" class=\"dataframe\">\n",
       "  <thead>\n",
       "    <tr style=\"text-align: right;\">\n",
       "      <th></th>\n",
       "    </tr>\n",
       "  </thead>\n",
       "  <tbody>\n",
       "  </tbody>\n",
       "</table>\n",
       "</div>"
      ],
      "text/plain": [
       "Empty DataFrame\n",
       "Columns: []\n",
       "Index: []"
      ]
     },
     "execution_count": 71,
     "metadata": {},
     "output_type": "execute_result"
    }
   ],
   "source": [
    "data.corr()"
   ]
  },
  {
   "cell_type": "code",
   "execution_count": 73,
   "id": "00df309b",
   "metadata": {},
   "outputs": [
    {
     "ename": "ConversionError",
     "evalue": "Failed to convert value(s) to axis units: array(['22', '35', nan, '54', '2', '20', '39', '14', '2', '31', '35', '8',\n       nan, '19', nan, '40', '66', '28', '42', '21', '18', '40', '27',\n       nan, nan, nan, nan, '18', '7', '21', '65', '28.5', '11', '22',\n       '45', '4', nan, '19', '26', '32', '16', '21', '26', '25', nan, nan,\n       '22', '28', '16', nan, '24', '29', '20', '46', '26', '59', nan,\n       '71', '34', '28', nan, '21', '33', '37', '28', '38', '47', '14.5',\n       '22', '20', '17', '21', '70.5', '29', '24', '2', '21', nan, '32.5',\n       '54', nan, '45', '33', '20', '47', '25', '23', '37', '16', '24',\n       nan, '19', '18', '19', '9', '36.5', '42', '51', '55.5', '40.5',\n       nan, '51', '30', nan, nan, '44', '26', '17', '1', '45', nan, '28',\n       '61', '4', '21', '56', '18', nan, '50', '30', '36', nan, nan, '9',\n       nan, '40', '36', '19', nan, '42', '24', '28', nan, '34', '45.5',\n       '2', '32', '24', '22', '30', nan, '42', '30', '27', '51', nan,\n       '22', '20.5', '18', nan, '29', '59', '24', nan, '44', '19', '33',\n       nan, '29', '22', '30', '44', '25', '54', nan, '29', '62', '30',\n       '41', nan, '52', '40', nan, '36', '16', nan, '37', '45', nan, '7',\n       '65', '28', '16', nan, '33', '22', '36', '24', '24', nan, '23.5',\n       '2', '19', nan, '30', '26', '28', '43', '54', '22', '27', nan,\n       '61', '45.5', '38', '16', nan, '29', '45', '28', '25', '36', '42',\n       '23', nan, '15', '25', nan, '28', '38', '40', '29', '45', '35',\n       nan, '30', '18', '19', '22', '3', '27', '20', '19', '32', nan,\n       '18', '1', nan, '28', '22', '31', '46', '23', '26', '21', '28',\n       '20', '34', '51', '21', nan, nan, nan, nan, nan, '30', '10', nan,\n       '21', '29', '28', '18', nan, nan, '17', '50', '21', '64', '31',\n       '20', '25', '36', nan, '30', nan, '65', nan, '34', '47', '48', nan,\n       '38', nan, '56', nan, nan, '38', '22', nan, '34', '29', '22', '9',\n       nan, '50', nan, '58', '30', nan, '21', '55', '71', '21', nan, nan,\n       '25', '24', '17', '21', nan, '37', '18', '28', nan, '24', '47',\n       nan, '32', '22', nan, nan, '40.5', nan, '39', '23', nan, '17',\n       '30', '45', nan, '9', '11', '50', '64', '33', '27', nan, '62', nan,\n       nan, '40', '28', nan, nan, '24', '19', '29', nan, '16', '19', nan,\n       '54', '36', nan, '47', '22', nan, '35', '47', nan, '37', '36',\n       '49', nan, nan, nan, '44', '36', '30', '39', nan, nan, '35', '34',\n       '26', '26', '27', '21', '21', '61', '57', '26', nan, '51', nan,\n       '9', '32', '31', '41', nan, '20', '2', '19', nan, nan, '21', '18',\n       '24', nan, '32', '23', '58', '40', '47', '36', '32', '25', nan,\n       '43', '31', '70', nan, '18', '24.5', '43', nan, '20', '14', '60',\n       '25', '14', '19', '18', '25', '60', '52', '44', '49', '42', '18',\n       '25', '26', '39', nan, '29', '52', '19', nan, '33', '17', '34',\n       '50', '20', '25', '25', '11', nan, '23', '23', '28.5', '48', nan,\n       nan, '36', '24', '70', '16', '19', '31', '33', '23', '28', '18',\n       '34', nan, '41', '16', nan, '30.5', nan, '32', '24', '48', '57',\n       nan, '18', nan, nan, '29', nan, '25', '25', '8', '46', nan, '16',\n       nan, nan, '25', '39', '30', '30', '34', '31', '39', '18', '39',\n       '26', '39', '35', '6', '30.5', nan, '23', '31', '43', '10', '38',\n       '2', nan, nan, nan, '23', '18', '21', nan, '20', '16', '34.5',\n       '17', '42', nan, '35', '28', '4', '74', '9', '44', nan, '41', '21',\n       nan, '24', '31', nan, '26', '33', '47', '20', '19', nan, '33',\n       '22', '28', '25', '39', '27', nan, '32'], dtype=object)",
     "output_type": "error",
     "traceback": [
      "\u001b[0;31m---------------------------------------------------------------------------\u001b[0m",
      "\u001b[0;31mTypeError\u001b[0m                                 Traceback (most recent call last)",
      "File \u001b[0;32m~/anaconda3/lib/python3.11/site-packages/matplotlib/axis.py:1732\u001b[0m, in \u001b[0;36mAxis.convert_units\u001b[0;34m(self, x)\u001b[0m\n\u001b[1;32m   1731\u001b[0m \u001b[38;5;28;01mtry\u001b[39;00m:\n\u001b[0;32m-> 1732\u001b[0m     ret \u001b[38;5;241m=\u001b[39m \u001b[38;5;28mself\u001b[39m\u001b[38;5;241m.\u001b[39mconverter\u001b[38;5;241m.\u001b[39mconvert(x, \u001b[38;5;28mself\u001b[39m\u001b[38;5;241m.\u001b[39munits, \u001b[38;5;28mself\u001b[39m)\n\u001b[1;32m   1733\u001b[0m \u001b[38;5;28;01mexcept\u001b[39;00m \u001b[38;5;167;01mException\u001b[39;00m \u001b[38;5;28;01mas\u001b[39;00m e:\n",
      "File \u001b[0;32m~/anaconda3/lib/python3.11/site-packages/matplotlib/category.py:57\u001b[0m, in \u001b[0;36mStrCategoryConverter.convert\u001b[0;34m(value, unit, axis)\u001b[0m\n\u001b[1;32m     56\u001b[0m \u001b[38;5;66;03m# force an update so it also does type checking\u001b[39;00m\n\u001b[0;32m---> 57\u001b[0m unit\u001b[38;5;241m.\u001b[39mupdate(values)\n\u001b[1;32m     58\u001b[0m \u001b[38;5;28;01mreturn\u001b[39;00m np\u001b[38;5;241m.\u001b[39mvectorize(unit\u001b[38;5;241m.\u001b[39m_mapping\u001b[38;5;241m.\u001b[39m\u001b[38;5;21m__getitem__\u001b[39m, otypes\u001b[38;5;241m=\u001b[39m[\u001b[38;5;28mfloat\u001b[39m])(values)\n",
      "File \u001b[0;32m~/anaconda3/lib/python3.11/site-packages/matplotlib/category.py:216\u001b[0m, in \u001b[0;36mUnitData.update\u001b[0;34m(self, data)\u001b[0m\n\u001b[1;32m    214\u001b[0m \u001b[38;5;28;01mfor\u001b[39;00m val \u001b[38;5;129;01min\u001b[39;00m OrderedDict\u001b[38;5;241m.\u001b[39mfromkeys(data):\n\u001b[1;32m    215\u001b[0m     \u001b[38;5;66;03m# OrderedDict just iterates over unique values in data.\u001b[39;00m\n\u001b[0;32m--> 216\u001b[0m     _api\u001b[38;5;241m.\u001b[39mcheck_isinstance((\u001b[38;5;28mstr\u001b[39m, \u001b[38;5;28mbytes\u001b[39m), value\u001b[38;5;241m=\u001b[39mval)\n\u001b[1;32m    217\u001b[0m     \u001b[38;5;28;01mif\u001b[39;00m convertible:\n\u001b[1;32m    218\u001b[0m         \u001b[38;5;66;03m# this will only be called so long as convertible is True.\u001b[39;00m\n",
      "File \u001b[0;32m~/anaconda3/lib/python3.11/site-packages/matplotlib/_api/__init__.py:93\u001b[0m, in \u001b[0;36mcheck_isinstance\u001b[0;34m(_types, **kwargs)\u001b[0m\n\u001b[1;32m     92\u001b[0m     names\u001b[38;5;241m.\u001b[39mappend(\u001b[38;5;124m\"\u001b[39m\u001b[38;5;124mNone\u001b[39m\u001b[38;5;124m\"\u001b[39m)\n\u001b[0;32m---> 93\u001b[0m \u001b[38;5;28;01mraise\u001b[39;00m \u001b[38;5;167;01mTypeError\u001b[39;00m(\n\u001b[1;32m     94\u001b[0m     \u001b[38;5;124m\"\u001b[39m\u001b[38;5;132;01m{!r}\u001b[39;00m\u001b[38;5;124m must be an instance of \u001b[39m\u001b[38;5;132;01m{}\u001b[39;00m\u001b[38;5;124m, not a \u001b[39m\u001b[38;5;132;01m{}\u001b[39;00m\u001b[38;5;124m\"\u001b[39m\u001b[38;5;241m.\u001b[39mformat(\n\u001b[1;32m     95\u001b[0m         k,\n\u001b[1;32m     96\u001b[0m         \u001b[38;5;124m\"\u001b[39m\u001b[38;5;124m, \u001b[39m\u001b[38;5;124m\"\u001b[39m\u001b[38;5;241m.\u001b[39mjoin(names[:\u001b[38;5;241m-\u001b[39m\u001b[38;5;241m1\u001b[39m]) \u001b[38;5;241m+\u001b[39m \u001b[38;5;124m\"\u001b[39m\u001b[38;5;124m or \u001b[39m\u001b[38;5;124m\"\u001b[39m \u001b[38;5;241m+\u001b[39m names[\u001b[38;5;241m-\u001b[39m\u001b[38;5;241m1\u001b[39m]\n\u001b[1;32m     97\u001b[0m         \u001b[38;5;28;01mif\u001b[39;00m \u001b[38;5;28mlen\u001b[39m(names) \u001b[38;5;241m>\u001b[39m \u001b[38;5;241m1\u001b[39m \u001b[38;5;28;01melse\u001b[39;00m names[\u001b[38;5;241m0\u001b[39m],\n\u001b[1;32m     98\u001b[0m         type_name(\u001b[38;5;28mtype\u001b[39m(v))))\n",
      "\u001b[0;31mTypeError\u001b[0m: 'value' must be an instance of str or bytes, not a float",
      "\nThe above exception was the direct cause of the following exception:\n",
      "\u001b[0;31mConversionError\u001b[0m                           Traceback (most recent call last)",
      "Cell \u001b[0;32mIn[73], line 5\u001b[0m\n\u001b[1;32m      3\u001b[0m \u001b[38;5;28;01mfor\u001b[39;00m elem \u001b[38;5;129;01min\u001b[39;00m numerical_cols:\n\u001b[1;32m      4\u001b[0m     g \u001b[38;5;241m=\u001b[39m sns\u001b[38;5;241m.\u001b[39mFacetGrid(data, col\u001b[38;5;241m=\u001b[39m\u001b[38;5;124m'\u001b[39m\u001b[38;5;124mSurvived\u001b[39m\u001b[38;5;124m'\u001b[39m)\n\u001b[0;32m----> 5\u001b[0m     g\u001b[38;5;241m.\u001b[39mmap(plt\u001b[38;5;241m.\u001b[39mhist, elem, bins\u001b[38;5;241m=\u001b[39m\u001b[38;5;241m20\u001b[39m)\n",
      "File \u001b[0;32m~/anaconda3/lib/python3.11/site-packages/seaborn/axisgrid.py:752\u001b[0m, in \u001b[0;36mFacetGrid.map\u001b[0;34m(self, func, *args, **kwargs)\u001b[0m\n\u001b[1;32m    749\u001b[0m         plot_args \u001b[38;5;241m=\u001b[39m [v\u001b[38;5;241m.\u001b[39mvalues \u001b[38;5;28;01mfor\u001b[39;00m v \u001b[38;5;129;01min\u001b[39;00m plot_args]\n\u001b[1;32m    751\u001b[0m     \u001b[38;5;66;03m# Draw the plot\u001b[39;00m\n\u001b[0;32m--> 752\u001b[0m     \u001b[38;5;28mself\u001b[39m\u001b[38;5;241m.\u001b[39m_facet_plot(func, ax, plot_args, kwargs)\n\u001b[1;32m    754\u001b[0m \u001b[38;5;66;03m# Finalize the annotations and layout\u001b[39;00m\n\u001b[1;32m    755\u001b[0m \u001b[38;5;28mself\u001b[39m\u001b[38;5;241m.\u001b[39m_finalize_grid(args[:\u001b[38;5;241m2\u001b[39m])\n",
      "File \u001b[0;32m~/anaconda3/lib/python3.11/site-packages/seaborn/axisgrid.py:848\u001b[0m, in \u001b[0;36mFacetGrid._facet_plot\u001b[0;34m(self, func, ax, plot_args, plot_kwargs)\u001b[0m\n\u001b[1;32m    846\u001b[0m     plot_args \u001b[38;5;241m=\u001b[39m []\n\u001b[1;32m    847\u001b[0m     plot_kwargs[\u001b[38;5;124m\"\u001b[39m\u001b[38;5;124max\u001b[39m\u001b[38;5;124m\"\u001b[39m] \u001b[38;5;241m=\u001b[39m ax\n\u001b[0;32m--> 848\u001b[0m func(\u001b[38;5;241m*\u001b[39mplot_args, \u001b[38;5;241m*\u001b[39m\u001b[38;5;241m*\u001b[39mplot_kwargs)\n\u001b[1;32m    850\u001b[0m \u001b[38;5;66;03m# Sort out the supporting information\u001b[39;00m\n\u001b[1;32m    851\u001b[0m \u001b[38;5;28mself\u001b[39m\u001b[38;5;241m.\u001b[39m_update_legend_data(ax)\n",
      "File \u001b[0;32m~/anaconda3/lib/python3.11/site-packages/matplotlib/pyplot.py:2645\u001b[0m, in \u001b[0;36mhist\u001b[0;34m(x, bins, range, density, weights, cumulative, bottom, histtype, align, orientation, rwidth, log, color, label, stacked, data, **kwargs)\u001b[0m\n\u001b[1;32m   2639\u001b[0m \u001b[38;5;129m@_copy_docstring_and_deprecators\u001b[39m(Axes\u001b[38;5;241m.\u001b[39mhist)\n\u001b[1;32m   2640\u001b[0m \u001b[38;5;28;01mdef\u001b[39;00m \u001b[38;5;21mhist\u001b[39m(\n\u001b[1;32m   2641\u001b[0m         x, bins\u001b[38;5;241m=\u001b[39m\u001b[38;5;28;01mNone\u001b[39;00m, \u001b[38;5;28mrange\u001b[39m\u001b[38;5;241m=\u001b[39m\u001b[38;5;28;01mNone\u001b[39;00m, density\u001b[38;5;241m=\u001b[39m\u001b[38;5;28;01mFalse\u001b[39;00m, weights\u001b[38;5;241m=\u001b[39m\u001b[38;5;28;01mNone\u001b[39;00m,\n\u001b[1;32m   2642\u001b[0m         cumulative\u001b[38;5;241m=\u001b[39m\u001b[38;5;28;01mFalse\u001b[39;00m, bottom\u001b[38;5;241m=\u001b[39m\u001b[38;5;28;01mNone\u001b[39;00m, histtype\u001b[38;5;241m=\u001b[39m\u001b[38;5;124m'\u001b[39m\u001b[38;5;124mbar\u001b[39m\u001b[38;5;124m'\u001b[39m, align\u001b[38;5;241m=\u001b[39m\u001b[38;5;124m'\u001b[39m\u001b[38;5;124mmid\u001b[39m\u001b[38;5;124m'\u001b[39m,\n\u001b[1;32m   2643\u001b[0m         orientation\u001b[38;5;241m=\u001b[39m\u001b[38;5;124m'\u001b[39m\u001b[38;5;124mvertical\u001b[39m\u001b[38;5;124m'\u001b[39m, rwidth\u001b[38;5;241m=\u001b[39m\u001b[38;5;28;01mNone\u001b[39;00m, log\u001b[38;5;241m=\u001b[39m\u001b[38;5;28;01mFalse\u001b[39;00m, color\u001b[38;5;241m=\u001b[39m\u001b[38;5;28;01mNone\u001b[39;00m,\n\u001b[1;32m   2644\u001b[0m         label\u001b[38;5;241m=\u001b[39m\u001b[38;5;28;01mNone\u001b[39;00m, stacked\u001b[38;5;241m=\u001b[39m\u001b[38;5;28;01mFalse\u001b[39;00m, \u001b[38;5;241m*\u001b[39m, data\u001b[38;5;241m=\u001b[39m\u001b[38;5;28;01mNone\u001b[39;00m, \u001b[38;5;241m*\u001b[39m\u001b[38;5;241m*\u001b[39mkwargs):\n\u001b[0;32m-> 2645\u001b[0m     \u001b[38;5;28;01mreturn\u001b[39;00m gca()\u001b[38;5;241m.\u001b[39mhist(\n\u001b[1;32m   2646\u001b[0m         x, bins\u001b[38;5;241m=\u001b[39mbins, \u001b[38;5;28mrange\u001b[39m\u001b[38;5;241m=\u001b[39m\u001b[38;5;28mrange\u001b[39m, density\u001b[38;5;241m=\u001b[39mdensity, weights\u001b[38;5;241m=\u001b[39mweights,\n\u001b[1;32m   2647\u001b[0m         cumulative\u001b[38;5;241m=\u001b[39mcumulative, bottom\u001b[38;5;241m=\u001b[39mbottom, histtype\u001b[38;5;241m=\u001b[39mhisttype,\n\u001b[1;32m   2648\u001b[0m         align\u001b[38;5;241m=\u001b[39malign, orientation\u001b[38;5;241m=\u001b[39morientation, rwidth\u001b[38;5;241m=\u001b[39mrwidth, log\u001b[38;5;241m=\u001b[39mlog,\n\u001b[1;32m   2649\u001b[0m         color\u001b[38;5;241m=\u001b[39mcolor, label\u001b[38;5;241m=\u001b[39mlabel, stacked\u001b[38;5;241m=\u001b[39mstacked,\n\u001b[1;32m   2650\u001b[0m         \u001b[38;5;241m*\u001b[39m\u001b[38;5;241m*\u001b[39m({\u001b[38;5;124m\"\u001b[39m\u001b[38;5;124mdata\u001b[39m\u001b[38;5;124m\"\u001b[39m: data} \u001b[38;5;28;01mif\u001b[39;00m data \u001b[38;5;129;01mis\u001b[39;00m \u001b[38;5;129;01mnot\u001b[39;00m \u001b[38;5;28;01mNone\u001b[39;00m \u001b[38;5;28;01melse\u001b[39;00m {}), \u001b[38;5;241m*\u001b[39m\u001b[38;5;241m*\u001b[39mkwargs)\n",
      "File \u001b[0;32m~/anaconda3/lib/python3.11/site-packages/matplotlib/__init__.py:1442\u001b[0m, in \u001b[0;36m_preprocess_data.<locals>.inner\u001b[0;34m(ax, data, *args, **kwargs)\u001b[0m\n\u001b[1;32m   1439\u001b[0m \u001b[38;5;129m@functools\u001b[39m\u001b[38;5;241m.\u001b[39mwraps(func)\n\u001b[1;32m   1440\u001b[0m \u001b[38;5;28;01mdef\u001b[39;00m \u001b[38;5;21minner\u001b[39m(ax, \u001b[38;5;241m*\u001b[39margs, data\u001b[38;5;241m=\u001b[39m\u001b[38;5;28;01mNone\u001b[39;00m, \u001b[38;5;241m*\u001b[39m\u001b[38;5;241m*\u001b[39mkwargs):\n\u001b[1;32m   1441\u001b[0m     \u001b[38;5;28;01mif\u001b[39;00m data \u001b[38;5;129;01mis\u001b[39;00m \u001b[38;5;28;01mNone\u001b[39;00m:\n\u001b[0;32m-> 1442\u001b[0m         \u001b[38;5;28;01mreturn\u001b[39;00m func(ax, \u001b[38;5;241m*\u001b[39m\u001b[38;5;28mmap\u001b[39m(sanitize_sequence, args), \u001b[38;5;241m*\u001b[39m\u001b[38;5;241m*\u001b[39mkwargs)\n\u001b[1;32m   1444\u001b[0m     bound \u001b[38;5;241m=\u001b[39m new_sig\u001b[38;5;241m.\u001b[39mbind(ax, \u001b[38;5;241m*\u001b[39margs, \u001b[38;5;241m*\u001b[39m\u001b[38;5;241m*\u001b[39mkwargs)\n\u001b[1;32m   1445\u001b[0m     auto_label \u001b[38;5;241m=\u001b[39m (bound\u001b[38;5;241m.\u001b[39marguments\u001b[38;5;241m.\u001b[39mget(label_namer)\n\u001b[1;32m   1446\u001b[0m                   \u001b[38;5;129;01mor\u001b[39;00m bound\u001b[38;5;241m.\u001b[39mkwargs\u001b[38;5;241m.\u001b[39mget(label_namer))\n",
      "File \u001b[0;32m~/anaconda3/lib/python3.11/site-packages/matplotlib/axes/_axes.py:6711\u001b[0m, in \u001b[0;36mAxes.hist\u001b[0;34m(self, x, bins, range, density, weights, cumulative, bottom, histtype, align, orientation, rwidth, log, color, label, stacked, **kwargs)\u001b[0m\n\u001b[1;32m   6709\u001b[0m \u001b[38;5;28;01mif\u001b[39;00m orientation \u001b[38;5;241m==\u001b[39m \u001b[38;5;124m\"\u001b[39m\u001b[38;5;124mvertical\u001b[39m\u001b[38;5;124m\"\u001b[39m:\n\u001b[1;32m   6710\u001b[0m     convert_units \u001b[38;5;241m=\u001b[39m \u001b[38;5;28mself\u001b[39m\u001b[38;5;241m.\u001b[39mconvert_xunits\n\u001b[0;32m-> 6711\u001b[0m     x \u001b[38;5;241m=\u001b[39m [\u001b[38;5;241m*\u001b[39m\u001b[38;5;28mself\u001b[39m\u001b[38;5;241m.\u001b[39m_process_unit_info([(\u001b[38;5;124m\"\u001b[39m\u001b[38;5;124mx\u001b[39m\u001b[38;5;124m\"\u001b[39m, x[\u001b[38;5;241m0\u001b[39m])], kwargs),\n\u001b[1;32m   6712\u001b[0m          \u001b[38;5;241m*\u001b[39m\u001b[38;5;28mmap\u001b[39m(convert_units, x[\u001b[38;5;241m1\u001b[39m:])]\n\u001b[1;32m   6713\u001b[0m \u001b[38;5;28;01melse\u001b[39;00m:  \u001b[38;5;66;03m# horizontal\u001b[39;00m\n\u001b[1;32m   6714\u001b[0m     convert_units \u001b[38;5;241m=\u001b[39m \u001b[38;5;28mself\u001b[39m\u001b[38;5;241m.\u001b[39mconvert_yunits\n",
      "File \u001b[0;32m~/anaconda3/lib/python3.11/site-packages/matplotlib/axes/_base.py:2567\u001b[0m, in \u001b[0;36m_AxesBase._process_unit_info\u001b[0;34m(self, datasets, kwargs, convert)\u001b[0m\n\u001b[1;32m   2565\u001b[0m             \u001b[38;5;28;01mif\u001b[39;00m dataset_axis_name \u001b[38;5;241m==\u001b[39m axis_name \u001b[38;5;129;01mand\u001b[39;00m data \u001b[38;5;129;01mis\u001b[39;00m \u001b[38;5;129;01mnot\u001b[39;00m \u001b[38;5;28;01mNone\u001b[39;00m:\n\u001b[1;32m   2566\u001b[0m                 axis\u001b[38;5;241m.\u001b[39mupdate_units(data)\n\u001b[0;32m-> 2567\u001b[0m \u001b[38;5;28;01mreturn\u001b[39;00m [axis_map[axis_name]\u001b[38;5;241m.\u001b[39mconvert_units(data)\n\u001b[1;32m   2568\u001b[0m         \u001b[38;5;28;01mif\u001b[39;00m convert \u001b[38;5;129;01mand\u001b[39;00m data \u001b[38;5;129;01mis\u001b[39;00m \u001b[38;5;129;01mnot\u001b[39;00m \u001b[38;5;28;01mNone\u001b[39;00m \u001b[38;5;28;01melse\u001b[39;00m data\n\u001b[1;32m   2569\u001b[0m         \u001b[38;5;28;01mfor\u001b[39;00m axis_name, data \u001b[38;5;129;01min\u001b[39;00m datasets]\n",
      "File \u001b[0;32m~/anaconda3/lib/python3.11/site-packages/matplotlib/axes/_base.py:2567\u001b[0m, in \u001b[0;36m<listcomp>\u001b[0;34m(.0)\u001b[0m\n\u001b[1;32m   2565\u001b[0m             \u001b[38;5;28;01mif\u001b[39;00m dataset_axis_name \u001b[38;5;241m==\u001b[39m axis_name \u001b[38;5;129;01mand\u001b[39;00m data \u001b[38;5;129;01mis\u001b[39;00m \u001b[38;5;129;01mnot\u001b[39;00m \u001b[38;5;28;01mNone\u001b[39;00m:\n\u001b[1;32m   2566\u001b[0m                 axis\u001b[38;5;241m.\u001b[39mupdate_units(data)\n\u001b[0;32m-> 2567\u001b[0m \u001b[38;5;28;01mreturn\u001b[39;00m [axis_map[axis_name]\u001b[38;5;241m.\u001b[39mconvert_units(data)\n\u001b[1;32m   2568\u001b[0m         \u001b[38;5;28;01mif\u001b[39;00m convert \u001b[38;5;129;01mand\u001b[39;00m data \u001b[38;5;129;01mis\u001b[39;00m \u001b[38;5;129;01mnot\u001b[39;00m \u001b[38;5;28;01mNone\u001b[39;00m \u001b[38;5;28;01melse\u001b[39;00m data\n\u001b[1;32m   2569\u001b[0m         \u001b[38;5;28;01mfor\u001b[39;00m axis_name, data \u001b[38;5;129;01min\u001b[39;00m datasets]\n",
      "File \u001b[0;32m~/anaconda3/lib/python3.11/site-packages/matplotlib/axis.py:1734\u001b[0m, in \u001b[0;36mAxis.convert_units\u001b[0;34m(self, x)\u001b[0m\n\u001b[1;32m   1732\u001b[0m     ret \u001b[38;5;241m=\u001b[39m \u001b[38;5;28mself\u001b[39m\u001b[38;5;241m.\u001b[39mconverter\u001b[38;5;241m.\u001b[39mconvert(x, \u001b[38;5;28mself\u001b[39m\u001b[38;5;241m.\u001b[39munits, \u001b[38;5;28mself\u001b[39m)\n\u001b[1;32m   1733\u001b[0m \u001b[38;5;28;01mexcept\u001b[39;00m \u001b[38;5;167;01mException\u001b[39;00m \u001b[38;5;28;01mas\u001b[39;00m e:\n\u001b[0;32m-> 1734\u001b[0m     \u001b[38;5;28;01mraise\u001b[39;00m munits\u001b[38;5;241m.\u001b[39mConversionError(\u001b[38;5;124m'\u001b[39m\u001b[38;5;124mFailed to convert value(s) to axis \u001b[39m\u001b[38;5;124m'\u001b[39m\n\u001b[1;32m   1735\u001b[0m                                  \u001b[38;5;124mf\u001b[39m\u001b[38;5;124m'\u001b[39m\u001b[38;5;124munits: \u001b[39m\u001b[38;5;132;01m{\u001b[39;00mx\u001b[38;5;132;01m!r}\u001b[39;00m\u001b[38;5;124m'\u001b[39m) \u001b[38;5;28;01mfrom\u001b[39;00m \u001b[38;5;21;01me\u001b[39;00m\n\u001b[1;32m   1736\u001b[0m \u001b[38;5;28;01mreturn\u001b[39;00m ret\n",
      "\u001b[0;31mConversionError\u001b[0m: Failed to convert value(s) to axis units: array(['22', '35', nan, '54', '2', '20', '39', '14', '2', '31', '35', '8',\n       nan, '19', nan, '40', '66', '28', '42', '21', '18', '40', '27',\n       nan, nan, nan, nan, '18', '7', '21', '65', '28.5', '11', '22',\n       '45', '4', nan, '19', '26', '32', '16', '21', '26', '25', nan, nan,\n       '22', '28', '16', nan, '24', '29', '20', '46', '26', '59', nan,\n       '71', '34', '28', nan, '21', '33', '37', '28', '38', '47', '14.5',\n       '22', '20', '17', '21', '70.5', '29', '24', '2', '21', nan, '32.5',\n       '54', nan, '45', '33', '20', '47', '25', '23', '37', '16', '24',\n       nan, '19', '18', '19', '9', '36.5', '42', '51', '55.5', '40.5',\n       nan, '51', '30', nan, nan, '44', '26', '17', '1', '45', nan, '28',\n       '61', '4', '21', '56', '18', nan, '50', '30', '36', nan, nan, '9',\n       nan, '40', '36', '19', nan, '42', '24', '28', nan, '34', '45.5',\n       '2', '32', '24', '22', '30', nan, '42', '30', '27', '51', nan,\n       '22', '20.5', '18', nan, '29', '59', '24', nan, '44', '19', '33',\n       nan, '29', '22', '30', '44', '25', '54', nan, '29', '62', '30',\n       '41', nan, '52', '40', nan, '36', '16', nan, '37', '45', nan, '7',\n       '65', '28', '16', nan, '33', '22', '36', '24', '24', nan, '23.5',\n       '2', '19', nan, '30', '26', '28', '43', '54', '22', '27', nan,\n       '61', '45.5', '38', '16', nan, '29', '45', '28', '25', '36', '42',\n       '23', nan, '15', '25', nan, '28', '38', '40', '29', '45', '35',\n       nan, '30', '18', '19', '22', '3', '27', '20', '19', '32', nan,\n       '18', '1', nan, '28', '22', '31', '46', '23', '26', '21', '28',\n       '20', '34', '51', '21', nan, nan, nan, nan, nan, '30', '10', nan,\n       '21', '29', '28', '18', nan, nan, '17', '50', '21', '64', '31',\n       '20', '25', '36', nan, '30', nan, '65', nan, '34', '47', '48', nan,\n       '38', nan, '56', nan, nan, '38', '22', nan, '34', '29', '22', '9',\n       nan, '50', nan, '58', '30', nan, '21', '55', '71', '21', nan, nan,\n       '25', '24', '17', '21', nan, '37', '18', '28', nan, '24', '47',\n       nan, '32', '22', nan, nan, '40.5', nan, '39', '23', nan, '17',\n       '30', '45', nan, '9', '11', '50', '64', '33', '27', nan, '62', nan,\n       nan, '40', '28', nan, nan, '24', '19', '29', nan, '16', '19', nan,\n       '54', '36', nan, '47', '22', nan, '35', '47', nan, '37', '36',\n       '49', nan, nan, nan, '44', '36', '30', '39', nan, nan, '35', '34',\n       '26', '26', '27', '21', '21', '61', '57', '26', nan, '51', nan,\n       '9', '32', '31', '41', nan, '20', '2', '19', nan, nan, '21', '18',\n       '24', nan, '32', '23', '58', '40', '47', '36', '32', '25', nan,\n       '43', '31', '70', nan, '18', '24.5', '43', nan, '20', '14', '60',\n       '25', '14', '19', '18', '25', '60', '52', '44', '49', '42', '18',\n       '25', '26', '39', nan, '29', '52', '19', nan, '33', '17', '34',\n       '50', '20', '25', '25', '11', nan, '23', '23', '28.5', '48', nan,\n       nan, '36', '24', '70', '16', '19', '31', '33', '23', '28', '18',\n       '34', nan, '41', '16', nan, '30.5', nan, '32', '24', '48', '57',\n       nan, '18', nan, nan, '29', nan, '25', '25', '8', '46', nan, '16',\n       nan, nan, '25', '39', '30', '30', '34', '31', '39', '18', '39',\n       '26', '39', '35', '6', '30.5', nan, '23', '31', '43', '10', '38',\n       '2', nan, nan, nan, '23', '18', '21', nan, '20', '16', '34.5',\n       '17', '42', nan, '35', '28', '4', '74', '9', '44', nan, '41', '21',\n       nan, '24', '31', nan, '26', '33', '47', '20', '19', nan, '33',\n       '22', '28', '25', '39', '27', nan, '32'], dtype=object)"
     ]
    },
    {
     "data": {
      "image/png": "[encoded data removed]",
      "text/plain": [
       "<Figure size 900x300 with 3 Axes>"
      ]
     },
     "metadata": {},
     "output_type": "display_data"
    },
    {
     "data": {
      "image/png": "[encoded data removed]",
      "text/plain": [
       "<Figure size 900x300 with 3 Axes>"
      ]
     },
     "metadata": {},
     "output_type": "display_data"
    }
   ],
   "source": [
    "import seaborn as sns\n",
    "numerical_cols= ['Pclass','Age','SibSp','Parch','Fare']\n",
    "for elem in numerical_cols:\n",
    "    g = sns.FacetGrid(data, col='Survived')\n",
    "    g.map(plt.hist, elem, bins=20)"
   ]
  },
  {
   "cell_type": "markdown",
   "id": "b8c20a4a",
   "metadata": {},
   "source": [
    "We will analize the columns that we believe can have the real impact on the predictions.\n",
    "\n",
    "- PasengerId : this column doesn't gives any useful informations, only the fact that there are 890 rows in out dataset.\n",
    "\n",
    "- Pclass: as we can see most of the people abord had 3rd class ticket. The same we can see from the skewness which is left-skewed. What is more, last graphs shows most of the people who didin't survive where from the lowest class and the difference is quite huge. We can assume that this factor might have big impact on surviving - probably people from the first used their material situation to escape from the drowing ship.\n",
    "\n",
    "- Name: we can assume that it is not meaningful fator. Also there all of them ar unique.\n",
    "\n",
    "- Sex: the information about it is full. We can see that there were many more me aboard. For now we can't really see how many of them survived, but we assume that it was meaningful facto and that more women survived.\n",
    "\n",
    "- Age: the average age is 29, but as we can see there are some outscores like the fact that the oldest person was 80 (and they actually suvived!). The correlation between survivig and age is very small, so that meas there isn't any linear conection between those factors. However, if we look at the last graphs we can see that from people who didint survived most were at agem age 20 to 35. Also, it shows that many kids survived and people in the age of 35 to 40 (probably at least one of their parents). From the info column we see that there are also some rows missing here.\n",
    "\n",
    "- SibSp: from the mean we can see that there weren't many spouses and sibligs abord. There isn't any see correlation between this factor and the survived.\n",
    "\n",
    "- Parch: the mean here is also rather low - it is not suprising as we can see that there were many young people aboard (15-28 years old). This factor also does not show big correlation with suvival.\n",
    "\n",
    "- Ticket: although not all of them are unique, we dont really believe that the number of ticket might have any impact on surviving, because we don't even know how to distinguish which class has which ticket.\n",
    "\n",
    "- Fare: this is very interesting factor. From the graph and also the describion we see that most of the tickets were rather cheap. But if we look at the correlation table there is the biggest correlation between this factor and the surviving( alse the skewness is the highest positive from all). Take a look ate the last graphs and see that there is a huge difference between the amout of people who paid less for the ticket and died that from those who had the most expensive tickets.\n",
    "\n",
    "- Cabin: unfortunately thereis a lot of missing values in here - we are not sure if we can use this data. \n",
    "\n",
    "- Embarked: Most of the people left from Southampton. This is a cathegorical data so for now we dont have many informations about the correlations. We can see that there are two missing points.\n"
   ]
  },
  {
   "cell_type": "markdown",
   "id": "70823a57",
   "metadata": {},
   "source": [
    "## Exercise 3"
   ]
  },
  {
   "cell_type": "markdown",
   "id": "7da4c69a",
   "metadata": {},
   "source": [
    "a) Firstly let's visualise data using univariate graphs\n",
    "\n",
    "- Histograms"
   ]
  },
  {
   "cell_type": "code",
   "execution_count": 76,
   "id": "a5b2d1b3",
   "metadata": {},
   "outputs": [
    {
     "ename": "ValueError",
     "evalue": "hist method requires numerical or datetime columns, nothing to plot.",
     "output_type": "error",
     "traceback": [
      "\u001b[0;31m---------------------------------------------------------------------------\u001b[0m",
      "\u001b[0;31mValueError\u001b[0m                                Traceback (most recent call last)",
      "Cell \u001b[0;32mIn[76], line 2\u001b[0m\n\u001b[1;32m      1\u001b[0m input_data \u001b[38;5;241m=\u001b[39m data[data\u001b[38;5;241m.\u001b[39mcolumns[\u001b[38;5;241m2\u001b[39m:]]\n\u001b[0;32m----> 2\u001b[0m input_data\u001b[38;5;241m.\u001b[39mhist()\n",
      "File \u001b[0;32m~/anaconda3/lib/python3.11/site-packages/pandas/plotting/_core.py:231\u001b[0m, in \u001b[0;36mhist_frame\u001b[0;34m(data, column, by, grid, xlabelsize, xrot, ylabelsize, yrot, ax, sharex, sharey, figsize, layout, bins, backend, legend, **kwargs)\u001b[0m\n\u001b[1;32m    140\u001b[0m \u001b[38;5;250m\u001b[39m\u001b[38;5;124;03m\"\"\"\u001b[39;00m\n\u001b[1;32m    141\u001b[0m \u001b[38;5;124;03mMake a histogram of the DataFrame's columns.\u001b[39;00m\n\u001b[1;32m    142\u001b[0m \n\u001b[0;32m   (...)\u001b[0m\n\u001b[1;32m    228\u001b[0m \u001b[38;5;124;03m    >>> hist = df.hist(bins=3)\u001b[39;00m\n\u001b[1;32m    229\u001b[0m \u001b[38;5;124;03m\"\"\"\u001b[39;00m\n\u001b[1;32m    230\u001b[0m plot_backend \u001b[38;5;241m=\u001b[39m _get_plot_backend(backend)\n\u001b[0;32m--> 231\u001b[0m \u001b[38;5;28;01mreturn\u001b[39;00m plot_backend\u001b[38;5;241m.\u001b[39mhist_frame(\n\u001b[1;32m    232\u001b[0m     data,\n\u001b[1;32m    233\u001b[0m     column\u001b[38;5;241m=\u001b[39mcolumn,\n\u001b[1;32m    234\u001b[0m     by\u001b[38;5;241m=\u001b[39mby,\n\u001b[1;32m    235\u001b[0m     grid\u001b[38;5;241m=\u001b[39mgrid,\n\u001b[1;32m    236\u001b[0m     xlabelsize\u001b[38;5;241m=\u001b[39mxlabelsize,\n\u001b[1;32m    237\u001b[0m     xrot\u001b[38;5;241m=\u001b[39mxrot,\n\u001b[1;32m    238\u001b[0m     ylabelsize\u001b[38;5;241m=\u001b[39mylabelsize,\n\u001b[1;32m    239\u001b[0m     yrot\u001b[38;5;241m=\u001b[39myrot,\n\u001b[1;32m    240\u001b[0m     ax\u001b[38;5;241m=\u001b[39max,\n\u001b[1;32m    241\u001b[0m     sharex\u001b[38;5;241m=\u001b[39msharex,\n\u001b[1;32m    242\u001b[0m     sharey\u001b[38;5;241m=\u001b[39msharey,\n\u001b[1;32m    243\u001b[0m     figsize\u001b[38;5;241m=\u001b[39mfigsize,\n\u001b[1;32m    244\u001b[0m     layout\u001b[38;5;241m=\u001b[39mlayout,\n\u001b[1;32m    245\u001b[0m     legend\u001b[38;5;241m=\u001b[39mlegend,\n\u001b[1;32m    246\u001b[0m     bins\u001b[38;5;241m=\u001b[39mbins,\n\u001b[1;32m    247\u001b[0m     \u001b[38;5;241m*\u001b[39m\u001b[38;5;241m*\u001b[39mkwargs,\n\u001b[1;32m    248\u001b[0m )\n",
      "File \u001b[0;32m~/anaconda3/lib/python3.11/site-packages/pandas/plotting/_matplotlib/hist.py:499\u001b[0m, in \u001b[0;36mhist_frame\u001b[0;34m(data, column, by, grid, xlabelsize, xrot, ylabelsize, yrot, ax, sharex, sharey, figsize, layout, bins, legend, **kwds)\u001b[0m\n\u001b[1;32m    496\u001b[0m naxes \u001b[38;5;241m=\u001b[39m \u001b[38;5;28mlen\u001b[39m(data\u001b[38;5;241m.\u001b[39mcolumns)\n\u001b[1;32m    498\u001b[0m \u001b[38;5;28;01mif\u001b[39;00m naxes \u001b[38;5;241m==\u001b[39m \u001b[38;5;241m0\u001b[39m:\n\u001b[0;32m--> 499\u001b[0m     \u001b[38;5;28;01mraise\u001b[39;00m \u001b[38;5;167;01mValueError\u001b[39;00m(\n\u001b[1;32m    500\u001b[0m         \u001b[38;5;124m\"\u001b[39m\u001b[38;5;124mhist method requires numerical or datetime columns, nothing to plot.\u001b[39m\u001b[38;5;124m\"\u001b[39m\n\u001b[1;32m    501\u001b[0m     )\n\u001b[1;32m    503\u001b[0m fig, axes \u001b[38;5;241m=\u001b[39m create_subplots(\n\u001b[1;32m    504\u001b[0m     naxes\u001b[38;5;241m=\u001b[39mnaxes,\n\u001b[1;32m    505\u001b[0m     ax\u001b[38;5;241m=\u001b[39max,\n\u001b[0;32m   (...)\u001b[0m\n\u001b[1;32m    510\u001b[0m     layout\u001b[38;5;241m=\u001b[39mlayout,\n\u001b[1;32m    511\u001b[0m )\n\u001b[1;32m    512\u001b[0m _axes \u001b[38;5;241m=\u001b[39m flatten_axes(axes)\n",
      "\u001b[0;31mValueError\u001b[0m: hist method requires numerical or datetime columns, nothing to plot."
     ]
    }
   ],
   "source": [
    "input_data = data[data.columns[2:]]\n",
    "input_data.hist()"
   ]
  },
  {
   "cell_type": "markdown",
   "id": "6e27ef5a",
   "metadata": {},
   "source": [
    "- density graphs"
   ]
  },
  {
   "cell_type": "code",
   "execution_count": null,
   "id": "4a875be6",
   "metadata": {},
   "outputs": [],
   "source": [
    "input_data.plot(kind='density', layout=(2,3), subplots=True, sharex=False)"
   ]
  },
  {
   "cell_type": "markdown",
   "id": "32e2b58f",
   "metadata": {},
   "source": [
    "- box plots"
   ]
  },
  {
   "cell_type": "code",
   "execution_count": null,
   "id": "bb204d2e",
   "metadata": {},
   "outputs": [],
   "source": [
    "input_data.plot (kind='box', subplots=True, layout=(1,5),sharex=False,sharey=False)"
   ]
  },
  {
   "cell_type": "markdown",
   "id": "e69aaf7f",
   "metadata": {},
   "source": [
    "Those graphs shows exactly the nuremical informations we get earlier - but they are easier to read. \n",
    "\n",
    "- Pclass: most people from the 3rd class, no outliers.\n",
    "\n",
    "- Age: Significant majority of 15 to 35 year olds, there are some outliers, as we well remember, the titanic voyage was a great breakthrough and it is no wonder that so many people of all ages wanted to take this course.\n",
    "\n",
    "- SibSp: Most of the people had 0 or 1 spouse or siblings aboard( while the median is around the 0, then the 3rd quantile is much closer to 1), but there are single outliers.\n",
    "\n",
    "- Parch - signifact majority had 0 - we can see that from all of the graphs.\n",
    "\n",
    "- Fare - the histogram shows a gradual decrease in the number of people as prices increase, in density graph the decline appears to be sharp and the box plots shows a lot of outliers."
   ]
  },
  {
   "cell_type": "markdown",
   "id": "f2646bd2",
   "metadata": {},
   "source": [
    "b) Multivariate graphs\n",
    "\n",
    "- scatter matrix"
   ]
  },
  {
   "cell_type": "code",
   "execution_count": null,
   "id": "575c219c",
   "metadata": {},
   "outputs": [],
   "source": [
    "correlations = data.corr()\n",
    "f = plt.figure()\n",
    "cax=plt.matshow(correlations, fignum=f.number, cmap=\"inferno\")\n",
    "plt.xticks(range(correlations.shape[1]), correlations.columns,\n",
    "rotation=45)\n",
    "plt.yticks(range(correlations.shape[1]), correlations.columns)\n",
    "f.colorbar(cax, fraction=0.05, pad=0.05)\n",
    "plt.show()\n",
    "\n",
    "pd.plotting.scatter_matrix(input_data, alpha= 0.3, diagonal= 'kde')"
   ]
  },
  {
   "cell_type": "markdown",
   "id": "38239311",
   "metadata": {},
   "source": [
    "## Exercise 4 and 5 \n",
    "\n",
    "We decided to combine those exercises so we will be able to use different methods for different things. Every step will be described. "
   ]
  },
  {
   "cell_type": "markdown",
   "id": "3aaa567a",
   "metadata": {},
   "source": [
    "Our idea is to firstly work with the 'embarked' column which is one of the categorical column. It unfortunately has 2 missing values so if we start with the binaisation we will get the column called 'Embarked_Nan'. Also, we have some columns with unique data like name or ticket, which will completly destroy our dataset if we try to binarise it before droping them."
   ]
  },
  {
   "cell_type": "markdown",
   "id": "cdfe008a",
   "metadata": {},
   "source": [
    "We had to deal with missing values in three cases. Firstly in column 'Age' we used KNN Imputation. This algorithm has imputed the missing values by finding the samples in the training set “closest” to it and averages these nearby points. In case of column 'Embarked' we used the SimpleImputer and 'most_frequent' strategy. We simply filled missing categorical values with value that occurs the most often. Finally, we decided to drop the column 'Cabin'. We assumed that as it isn't not strongly correlated with class 'Survival' and has many missing values, it is not crucial for our data set."
   ]
  },
  {
   "cell_type": "markdown",
   "id": "b61ec1b2",
   "metadata": {},
   "source": [
    "5a) Univariate - 'Embarked column' - we start with using this method for the Embarked column because we believe that having consider the significant mjority of S patterns we can easily use SimpleInputer here."
   ]
  },
  {
   "cell_type": "code",
   "execution_count": 3,
   "id": "36ba38d9",
   "metadata": {},
   "outputs": [
    {
     "name": "stdout",
     "output_type": "stream",
     "text": [
      "<class 'pandas.core.frame.DataFrame'>\n",
      "RangeIndex: 892 entries, 0 to 891\n",
      "Data columns (total 12 columns):\n",
      " #   Column       Non-Null Count  Dtype \n",
      "---  ------       --------------  ----- \n",
      " 0   PassengerId  892 non-null    object\n",
      " 1   Survived     892 non-null    object\n",
      " 2   Pclass       892 non-null    object\n",
      " 3   Name         892 non-null    object\n",
      " 4   Sex          892 non-null    object\n",
      " 5   Age          715 non-null    object\n",
      " 6   SibSp        892 non-null    object\n",
      " 7   Parch        892 non-null    object\n",
      " 8   Ticket       892 non-null    object\n",
      " 9   Fare         892 non-null    object\n",
      " 10  Cabin        205 non-null    object\n",
      " 11  Embarked     892 non-null    object\n",
      "dtypes: object(12)\n",
      "memory usage: 83.8+ KB\n"
     ]
    }
   ],
   "source": [
    "imputer = SimpleImputer(missing_values=np.nan, strategy='most_frequent')\n",
    "data['Embarked'] = imputer.fit_transform(data[['Embarked']])\n",
    "data.info()"
   ]
  },
  {
   "cell_type": "code",
   "execution_count": null,
   "id": "85ca2728",
   "metadata": {},
   "outputs": [],
   "source": [
    "data.describe(include='O')"
   ]
  },
  {
   "cell_type": "markdown",
   "id": "6c51d078",
   "metadata": {},
   "source": [
    "we used the most frequent method and as we can see the frequency of 'S' is 2 more."
   ]
  },
  {
   "cell_type": "markdown",
   "id": "b0486e6a",
   "metadata": {},
   "source": [
    "Now we will delete the Cabin column."
   ]
  },
  {
   "cell_type": "code",
   "execution_count": 4,
   "id": "79d64231",
   "metadata": {},
   "outputs": [],
   "source": [
    "data = data.drop(['Cabin'], axis=1)"
   ]
  },
  {
   "cell_type": "markdown",
   "id": "a34139a1",
   "metadata": {},
   "source": [
    "The next step we are planning to do is the binarisation of the data but before that we want to get rid of some columns, that we believe are useless. Those are : Name, Ticket and also as PassengerId."
   ]
  },
  {
   "cell_type": "code",
   "execution_count": 5,
   "id": "e3ad039e",
   "metadata": {},
   "outputs": [],
   "source": [
    "data= data.drop(['Ticket', 'Name', 'PassengerId'], axis=1)"
   ]
  },
  {
   "cell_type": "markdown",
   "id": "5347c758",
   "metadata": {},
   "source": [
    "Now we can start with the binarisation of the data - we'e gonna use "
   ]
  },
  {
   "cell_type": "code",
   "execution_count": null,
   "id": "8e10118a",
   "metadata": {},
   "outputs": [],
   "source": [
    "data.head()"
   ]
  },
  {
   "cell_type": "code",
   "execution_count": null,
   "id": "85f942c9",
   "metadata": {},
   "outputs": [],
   "source": [
    "data.head()"
   ]
  },
  {
   "cell_type": "code",
   "execution_count": 6,
   "id": "b67850a9",
   "metadata": {},
   "outputs": [
    {
     "ename": "ValueError",
     "evalue": "Shape of passed values is (892, 15), indices imply (892, 12)",
     "output_type": "error",
     "traceback": [
      "\u001b[0;31m---------------------------------------------------------------------------\u001b[0m",
      "\u001b[0;31mValueError\u001b[0m                                Traceback (most recent call last)",
      "Cell \u001b[0;32mIn[6], line 7\u001b[0m\n\u001b[1;32m      4\u001b[0m transformer \u001b[38;5;241m=\u001b[39m ColumnTransformer([(\u001b[38;5;124m'\u001b[39m\u001b[38;5;124mone_hot_encoder\u001b[39m\u001b[38;5;124m'\u001b[39m,OneHotEncoder(), categorical_columns)], remainder\u001b[38;5;241m=\u001b[39m\u001b[38;5;124m'\u001b[39m\u001b[38;5;124mpassthrough\u001b[39m\u001b[38;5;124m'\u001b[39m)\n\u001b[1;32m      6\u001b[0m input_data_encoded \u001b[38;5;241m=\u001b[39m transformer\u001b[38;5;241m.\u001b[39mfit_transform(input_data)\n\u001b[0;32m----> 7\u001b[0m binarised_data \u001b[38;5;241m=\u001b[39m pd\u001b[38;5;241m.\u001b[39mDataFrame(input_data_encoded, columns\u001b[38;5;241m=\u001b[39m[\u001b[38;5;124m'\u001b[39m\u001b[38;5;124mFemale\u001b[39m\u001b[38;5;124m'\u001b[39m, \u001b[38;5;124m'\u001b[39m\u001b[38;5;124mMale\u001b[39m\u001b[38;5;124m'\u001b[39m, \u001b[38;5;124m'\u001b[39m\u001b[38;5;124mPclass_1\u001b[39m\u001b[38;5;124m'\u001b[39m,\u001b[38;5;124m'\u001b[39m\u001b[38;5;124mPclass_2\u001b[39m\u001b[38;5;124m'\u001b[39m, \u001b[38;5;124m'\u001b[39m\u001b[38;5;124mPclass_3\u001b[39m\u001b[38;5;124m'\u001b[39m,\u001b[38;5;124m'\u001b[39m\u001b[38;5;124mEmbarked_C\u001b[39m\u001b[38;5;124m'\u001b[39m,\u001b[38;5;124m'\u001b[39m\u001b[38;5;124mEmbarked_Q\u001b[39m\u001b[38;5;124m'\u001b[39m,\u001b[38;5;124m'\u001b[39m\u001b[38;5;124mEmbarked_S\u001b[39m\u001b[38;5;124m'\u001b[39m,\u001b[38;5;124m'\u001b[39m\u001b[38;5;124mAge\u001b[39m\u001b[38;5;124m'\u001b[39m,\u001b[38;5;124m'\u001b[39m\u001b[38;5;124mSibSp\u001b[39m\u001b[38;5;124m'\u001b[39m,\u001b[38;5;124m'\u001b[39m\u001b[38;5;124mParch\u001b[39m\u001b[38;5;124m'\u001b[39m,\u001b[38;5;124m'\u001b[39m\u001b[38;5;124mFare\u001b[39m\u001b[38;5;124m'\u001b[39m])\n\u001b[1;32m      8\u001b[0m input_data_encoded \u001b[38;5;241m=\u001b[39m pd\u001b[38;5;241m.\u001b[39mDataFrame(input_data_encoded)\n\u001b[1;32m     10\u001b[0m \u001b[38;5;28mprint\u001b[39m(input_data_encoded\u001b[38;5;241m.\u001b[39mhead(\u001b[38;5;241m5\u001b[39m))\n",
      "File \u001b[0;32m~/anaconda3/lib/python3.11/site-packages/pandas/core/frame.py:722\u001b[0m, in \u001b[0;36mDataFrame.__init__\u001b[0;34m(self, data, index, columns, dtype, copy)\u001b[0m\n\u001b[1;32m    712\u001b[0m         mgr \u001b[38;5;241m=\u001b[39m dict_to_mgr(\n\u001b[1;32m    713\u001b[0m             \u001b[38;5;66;03m# error: Item \"ndarray\" of \"Union[ndarray, Series, Index]\" has no\u001b[39;00m\n\u001b[1;32m    714\u001b[0m             \u001b[38;5;66;03m# attribute \"name\"\u001b[39;00m\n\u001b[0;32m   (...)\u001b[0m\n\u001b[1;32m    719\u001b[0m             typ\u001b[38;5;241m=\u001b[39mmanager,\n\u001b[1;32m    720\u001b[0m         )\n\u001b[1;32m    721\u001b[0m     \u001b[38;5;28;01melse\u001b[39;00m:\n\u001b[0;32m--> 722\u001b[0m         mgr \u001b[38;5;241m=\u001b[39m ndarray_to_mgr(\n\u001b[1;32m    723\u001b[0m             data,\n\u001b[1;32m    724\u001b[0m             index,\n\u001b[1;32m    725\u001b[0m             columns,\n\u001b[1;32m    726\u001b[0m             dtype\u001b[38;5;241m=\u001b[39mdtype,\n\u001b[1;32m    727\u001b[0m             copy\u001b[38;5;241m=\u001b[39mcopy,\n\u001b[1;32m    728\u001b[0m             typ\u001b[38;5;241m=\u001b[39mmanager,\n\u001b[1;32m    729\u001b[0m         )\n\u001b[1;32m    731\u001b[0m \u001b[38;5;66;03m# For data is list-like, or Iterable (will consume into list)\u001b[39;00m\n\u001b[1;32m    732\u001b[0m \u001b[38;5;28;01melif\u001b[39;00m is_list_like(data):\n",
      "File \u001b[0;32m~/anaconda3/lib/python3.11/site-packages/pandas/core/internals/construction.py:349\u001b[0m, in \u001b[0;36mndarray_to_mgr\u001b[0;34m(values, index, columns, dtype, copy, typ)\u001b[0m\n\u001b[1;32m    344\u001b[0m \u001b[38;5;66;03m# _prep_ndarraylike ensures that values.ndim == 2 at this point\u001b[39;00m\n\u001b[1;32m    345\u001b[0m index, columns \u001b[38;5;241m=\u001b[39m _get_axes(\n\u001b[1;32m    346\u001b[0m     values\u001b[38;5;241m.\u001b[39mshape[\u001b[38;5;241m0\u001b[39m], values\u001b[38;5;241m.\u001b[39mshape[\u001b[38;5;241m1\u001b[39m], index\u001b[38;5;241m=\u001b[39mindex, columns\u001b[38;5;241m=\u001b[39mcolumns\n\u001b[1;32m    347\u001b[0m )\n\u001b[0;32m--> 349\u001b[0m _check_values_indices_shape_match(values, index, columns)\n\u001b[1;32m    351\u001b[0m \u001b[38;5;28;01mif\u001b[39;00m typ \u001b[38;5;241m==\u001b[39m \u001b[38;5;124m\"\u001b[39m\u001b[38;5;124marray\u001b[39m\u001b[38;5;124m\"\u001b[39m:\n\u001b[1;32m    353\u001b[0m     \u001b[38;5;28;01mif\u001b[39;00m \u001b[38;5;28missubclass\u001b[39m(values\u001b[38;5;241m.\u001b[39mdtype\u001b[38;5;241m.\u001b[39mtype, \u001b[38;5;28mstr\u001b[39m):\n",
      "File \u001b[0;32m~/anaconda3/lib/python3.11/site-packages/pandas/core/internals/construction.py:420\u001b[0m, in \u001b[0;36m_check_values_indices_shape_match\u001b[0;34m(values, index, columns)\u001b[0m\n\u001b[1;32m    418\u001b[0m passed \u001b[38;5;241m=\u001b[39m values\u001b[38;5;241m.\u001b[39mshape\n\u001b[1;32m    419\u001b[0m implied \u001b[38;5;241m=\u001b[39m (\u001b[38;5;28mlen\u001b[39m(index), \u001b[38;5;28mlen\u001b[39m(columns))\n\u001b[0;32m--> 420\u001b[0m \u001b[38;5;28;01mraise\u001b[39;00m \u001b[38;5;167;01mValueError\u001b[39;00m(\u001b[38;5;124mf\u001b[39m\u001b[38;5;124m\"\u001b[39m\u001b[38;5;124mShape of passed values is \u001b[39m\u001b[38;5;132;01m{\u001b[39;00mpassed\u001b[38;5;132;01m}\u001b[39;00m\u001b[38;5;124m, indices imply \u001b[39m\u001b[38;5;132;01m{\u001b[39;00mimplied\u001b[38;5;132;01m}\u001b[39;00m\u001b[38;5;124m\"\u001b[39m)\n",
      "\u001b[0;31mValueError\u001b[0m: Shape of passed values is (892, 15), indices imply (892, 12)"
     ]
    }
   ],
   "source": [
    "# wez usun pozniej to binarised data przed oddaniem\n",
    "input_data = data[data.columns[1:]]\n",
    "categorical_columns = ['Sex','Pclass','Embarked']\n",
    "transformer = ColumnTransformer([('one_hot_encoder',OneHotEncoder(), categorical_columns)], remainder='passthrough')\n",
    "\n",
    "input_data_encoded = transformer.fit_transform(input_data)\n",
    "binarised_data = pd.DataFrame(input_data_encoded, columns=['Female', 'Male', 'Pclass_1','Pclass_2', 'Pclass_3','Embarked_C','Embarked_Q','Embarked_S','Age','SibSp','Parch','Fare'])\n",
    "input_data_encoded = pd.DataFrame(input_data_encoded)\n",
    "\n",
    "print(input_data_encoded.head(5))\n",
    "X = input_data_encoded\n",
    "Y = data['Survived']\n",
    "\n",
    "binarised_data.head()"
   ]
  },
  {
   "cell_type": "code",
   "execution_count": null,
   "id": "19992ae6",
   "metadata": {
    "scrolled": true
   },
   "outputs": [],
   "source": [
    "binarised_data = binarised_data.join(Y)\n",
    "binarised_data.head()"
   ]
  },
  {
   "cell_type": "markdown",
   "id": "63a960dc",
   "metadata": {},
   "source": [
    "5b) Now before scaling we're gonna move to fulfil the blank spaces in Age column - we will do it in multivariate way."
   ]
  },
  {
   "cell_type": "code",
   "execution_count": null,
   "id": "6ac19746",
   "metadata": {},
   "outputs": [],
   "source": [
    "imputer = KNNImputer()\n",
    "imputer.fit(X)\n",
    "new_data=imputer.transform(X)\n",
    "binarised_and_full = pd.DataFrame(new_data, columns=['Female', 'Male', 'Pclass_1','Pclass_2', 'Pclass_3','Embarked_C','Embarked_Q','Embarked_S','Age','SibSp','Parch','Fare'])\n",
    "binarised_and_full.head()"
   ]
  },
  {
   "cell_type": "code",
   "execution_count": null,
   "id": "a5c51e13",
   "metadata": {},
   "outputs": [],
   "source": [
    "binarised_and_full = binarised_and_full.join(Y)"
   ]
  },
  {
   "cell_type": "markdown",
   "id": "5b6d86a2",
   "metadata": {},
   "source": [
    "So now let's sum up what we have:\n",
    "\n",
    "- Binarised_and_full is a DataFrame that consist of all the data that now is only numerical and don't have any missing values - we also add here the survived column so right now it is our fully informative structure.\n",
    "\n",
    "- Input_data_encoded and X are dataframes that only have the binarised data, but still have missing values\n",
    "\n",
    "- Y: is out class column\n"
   ]
  },
  {
   "cell_type": "markdown",
   "id": "eabb61f7",
   "metadata": {},
   "source": [
    "So now let's get some information about our data like we got in point 3 before we scale them - we will also do if after scaling and compare results"
   ]
  },
  {
   "cell_type": "code",
   "execution_count": 77,
   "id": "709cf819",
   "metadata": {},
   "outputs": [
    {
     "ename": "NameError",
     "evalue": "name 'new_data' is not defined",
     "output_type": "error",
     "traceback": [
      "\u001b[0;31m---------------------------------------------------------------------------\u001b[0m",
      "\u001b[0;31mNameError\u001b[0m                                 Traceback (most recent call last)",
      "Cell \u001b[0;32mIn[77], line 1\u001b[0m\n\u001b[0;32m----> 1\u001b[0m new_data\n",
      "\u001b[0;31mNameError\u001b[0m: name 'new_data' is not defined"
     ]
    }
   ],
   "source": [
    "new_data"
   ]
  },
  {
   "cell_type": "code",
   "execution_count": null,
   "id": "efca6d12",
   "metadata": {},
   "outputs": [],
   "source": [
    "new_data_frame = pd.DataFrame(new_data)"
   ]
  },
  {
   "cell_type": "code",
   "execution_count": null,
   "id": "dcb4678c",
   "metadata": {},
   "outputs": [],
   "source": [
    "new_data_frame"
   ]
  },
  {
   "cell_type": "code",
   "execution_count": null,
   "id": "4351ae22",
   "metadata": {},
   "outputs": [],
   "source": [
    "new_data_frame.skew()"
   ]
  },
  {
   "cell_type": "code",
   "execution_count": null,
   "id": "bcbef77e",
   "metadata": {},
   "outputs": [],
   "source": [
    "binarised_and_full.describe()"
   ]
  },
  {
   "cell_type": "code",
   "execution_count": null,
   "id": "865fbc85",
   "metadata": {},
   "outputs": [],
   "source": [
    "binarised_and_full.corr()"
   ]
  },
  {
   "cell_type": "code",
   "execution_count": null,
   "id": "b2f6f419",
   "metadata": {},
   "outputs": [],
   "source": [
    "binarised_and_full.hist()"
   ]
  },
  {
   "cell_type": "code",
   "execution_count": null,
   "id": "9ab46854",
   "metadata": {},
   "outputs": [],
   "source": [
    "binarised_and_full.plot(kind='density', layout=(4,4), subplots=True, sharex=False)"
   ]
  },
  {
   "cell_type": "code",
   "execution_count": null,
   "id": "389e3f42",
   "metadata": {},
   "outputs": [],
   "source": [
    "correlations = binarised_and_full.corr()\n",
    "f = plt.figure()\n",
    "cax=plt.matshow(correlations, fignum=f.number, cmap=\"inferno\")\n",
    "plt.xticks(range(correlations.shape[1]), correlations.columns,\n",
    "rotation=45)\n",
    "plt.yticks(range(correlations.shape[1]), correlations.columns)\n",
    "f.colorbar(cax, fraction=0.05, pad=0.05)\n",
    "plt.show()\n",
    "\n",
    "pd.plotting.scatter_matrix(input_data, alpha= 0.3, diagonal= 'kde')"
   ]
  },
  {
   "cell_type": "code",
   "execution_count": null,
   "id": "f6a0da5d",
   "metadata": {},
   "outputs": [],
   "source": [
    "binarised_and_full.skew()"
   ]
  },
  {
   "cell_type": "markdown",
   "id": "c4fbefc1",
   "metadata": {},
   "source": [
    "we see that we shoul apply scaling to male, female, pclass_3 and age. The rest should be normalised."
   ]
  },
  {
   "cell_type": "code",
   "execution_count": null,
   "id": "5f6b934e",
   "metadata": {},
   "outputs": [],
   "source": [
    "data_for_scaling = binarised_and_full[['Female', 'Male', 'Pclass_3', 'Age']]\n",
    "minmaxSc = MinMaxScaler(feature_range=(0, 1))\n",
    "minmaxSc.fit(data_for_scaling)\n",
    "rescXS = minmaxSc.transform(data_for_scaling)\n",
    "print(\"scaled data\")\n",
    "print(pd.DataFrame(rescXS))\n",
    "\n",
    "data_for_normalisation= binarised_and_full[['Pclass_1', 'Pclass_2', 'SibSp','Parch','Fare','Embarked_C','Embarked_Q','Embarked_S' ]]\n",
    "stdScaler = StandardScaler().fit(data_for_normalisation)\n",
    "rescXN = stdScaler.transform(data_for_normalisation)\n",
    "print(\"noralisation\")\n",
    "print(pd.DataFrame(rescXN))"
   ]
  },
  {
   "cell_type": "code",
   "execution_count": null,
   "id": "6585e964",
   "metadata": {},
   "outputs": [],
   "source": [
    "scaled = pd.DataFrame(rescXS, columns=['Female', 'Male', 'Pclass_3', 'Age'])\n",
    "normalised = pd.DataFrame(rescXN, columns=['Pclass_1', 'Pclass_2', 'SibSp','Parch','Fare','Embarked_C','Embarked_Q','Embarked_S' ])\n",
    "scaled.head()\n",
    "normalised.head()"
   ]
  },
  {
   "cell_type": "code",
   "execution_count": null,
   "id": "afbfe5e0",
   "metadata": {},
   "outputs": [],
   "source": [
    "SN_data = scaled.join(normalised)\n",
    "SN_data.head()"
   ]
  },
  {
   "cell_type": "code",
   "execution_count": null,
   "id": "7b8398ed",
   "metadata": {},
   "outputs": [],
   "source": [
    "SN_data = SN_data.join(Y)"
   ]
  },
  {
   "cell_type": "code",
   "execution_count": null,
   "id": "3c5a4ee8",
   "metadata": {},
   "outputs": [],
   "source": [
    "SN_data.corr()\n",
    "SN_data.describe()"
   ]
  },
  {
   "cell_type": "code",
   "execution_count": null,
   "id": "45670b17",
   "metadata": {},
   "outputs": [],
   "source": [
    "SN_data.corr()"
   ]
  },
  {
   "cell_type": "markdown",
   "id": "ad0fdbdc",
   "metadata": {},
   "source": [
    "## Exercise 6"
   ]
  },
  {
   "cell_type": "markdown",
   "id": "a1952c3a",
   "metadata": {},
   "source": [
    "a)\n",
    "- filter methods \n",
    "\n",
    "Feature selection not relying on machine learning algorithms. Instead, features are chosen basing on the correlation with outcome variable. In our case we used SelectKBest function which gives us top 5 features\n",
    "\n",
    "\n",
    "- wrapper methods - \n",
    "In our work we used RFE method. It ranks the features based on importance and eliminates the least important ones until the desired number of features is reached."
   ]
  },
  {
   "cell_type": "code",
   "execution_count": null,
   "id": "2736b200",
   "metadata": {},
   "outputs": [],
   "source": [
    "# filter metod \n",
    "import pandas as pd\n",
    "from sklearn.feature_selection import SelectKBest\n",
    "from sklearn.feature_selection import f_classif\n",
    "input_data = SN_data[SN_data.columns[:-1]]\n",
    "\n",
    "filterKB = SelectKBest(score_func=f_classif, k=6)\n",
    "filter_model = filterKB.fit(input_data, SN_data['Survived'])\n",
    "print(filter_model.scores_)\n",
    "selected = filter_model.transform(input_data)\n",
    "print(pd.DataFrame(selected).head())"
   ]
  },
  {
   "cell_type": "code",
   "execution_count": null,
   "id": "b3a5666e",
   "metadata": {},
   "outputs": [],
   "source": [
    "from sklearn.feature_selection import RFE\n",
    "from sklearn.linear_model import LogisticRegression\n",
    "logReg = LogisticRegression(solver=\"liblinear\")\n",
    "rfe = RFE(logReg)\n",
    "rfe_model = rfe.fit(input_data, data['Survived'])\n",
    "print(\"Features selected: \", rfe_model.n_features_)\n",
    "print(\"Features selected: \", rfe_model.support_)\n",
    "print(\"Ranking: \", rfe_model.ranking_)"
   ]
  },
  {
   "cell_type": "markdown",
   "id": "563d316a",
   "metadata": {},
   "source": [
    "b)SelectKBest features that were selected: 'male', 'female', 'class1', 'class3', 'embarkedC', 'Fare'.\n",
    "\n",
    "RFE We selected features: 'male', 'female', 'class1', 'class2', 'age', 'SibSp'\n",
    "\n",
    "Both methods considered features 'male', 'female' and 'class1' as crucial. It corresponds to our earlier considerations regarding impact of each feature on 'Survival' feature. We can see different approaches of both methods because the first one filtered column 'embarkedC' and 'class3' while the other one chose 'age' and 'SibSp'."
   ]
  },
  {
   "cell_type": "markdown",
   "id": "dea1a32a",
   "metadata": {},
   "source": [
    "## Exrecise 7"
   ]
  },
  {
   "cell_type": "code",
   "execution_count": null,
   "id": "91adfb94",
   "metadata": {},
   "outputs": [],
   "source": [
    "from sklearn import datasets\n",
    "from sklearn.decomposition import PCA"
   ]
  },
  {
   "cell_type": "code",
   "execution_count": null,
   "id": "4d5f5875",
   "metadata": {},
   "outputs": [],
   "source": [
    "X_ = SN_data[SN_data.columns[:-1]]\n",
    "Y_= SN_data['Survived']\n",
    "\n",
    "target_names = ['survived','not-survived']\n",
    "pca = PCA(n_components=2)\n",
    "X_r = pca.fit(X_).transform(X_)\n",
    "print ('Explained variance : ' , pca.explained_variance_ratio_)\n",
    "plt.figure ()\n",
    "colors = ['indigo' , 'lightseagreen']\n",
    "lw = 2\n",
    "for color , i , target_name in zip( colors , [0, 1], target_names):\n",
    "    plt.scatter (X_r[Y_ == i, 0], X_r[Y_ == i, 1], color=color, alpha=.8, lw=lw,label=target_name)\n",
    "plt.legend( loc='best', scatterpoints =1)\n",
    "plt.title ( 'PCA of Titanic dataset' )\n",
    "plt.show()"
   ]
  },
  {
   "cell_type": "markdown",
   "id": "d2d712bf",
   "metadata": {},
   "source": [
    "After applying PCA for our data set we reduced the number of dimensions from 10 to 2. Therefore we can visualize our data on a plot. After dimensionality reduction, there isn’t a particular meaning assigned to each of 2 principal components. Unfortunately in our case two groups, survived and non-survived, are not easily separable. That means that our data can't be divided in only two dimensions."
   ]
  },
  {
   "cell_type": "code",
   "execution_count": null,
   "id": "468de515",
   "metadata": {},
   "outputs": [],
   "source": [
    "!pip show scikit-learn"
   ]
  },
  {
   "cell_type": "code",
   "execution_count": null,
   "id": "f0b999a4",
   "metadata": {},
   "outputs": [],
   "source": [
    "import sklearn\n",
    "print(sklearn.__version__)\n"
   ]
  },
  {
   "cell_type": "code",
   "execution_count": null,
   "id": "3bf11a6f",
   "metadata": {},
   "outputs": [],
   "source": []
  }
 ],
 "metadata": {
  "kernelspec": {
   "display_name": "Python 3 (ipykernel)",
   "language": "python",
   "name": "python3"
  },
  "language_info": {
   "codemirror_mode": {
    "name": "ipython",
    "version": 3
   },
   "file_extension": ".py",
   "mimetype": "text/x-python",
   "name": "python",
   "nbconvert_exporter": "python",
   "pygments_lexer": "ipython3",
   "version": "3.7.7"
  }
 },
 "nbformat": 4,
 "nbformat_minor": 5
}
