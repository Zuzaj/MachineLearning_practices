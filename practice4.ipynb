{
 "cells": [
  {
   "cell_type": "markdown",
   "id": "ba704185",
   "metadata": {},
   "source": [
    "# Practice 4 "
   ]
  },
  {
   "cell_type": "markdown",
   "id": "fc54dc33",
   "metadata": {},
   "source": [
    "### Martyna Baran, Zuzanna Jarlaczyńska"
   ]
  },
  {
   "cell_type": "markdown",
   "id": "eebf2a90",
   "metadata": {},
   "source": [
    "### Exercise 1 "
   ]
  },
  {
   "cell_type": "code",
   "execution_count": 1,
   "id": "5f8a0168",
   "metadata": {},
   "outputs": [],
   "source": [
    "import pandas as pd\n",
    "import numpy as np"
   ]
  },
  {
   "cell_type": "code",
   "execution_count": 2,
   "id": "609dc17b",
   "metadata": {},
   "outputs": [
    {
     "data": {
      "text/html": [
       "<div>\n",
       "<style scoped>\n",
       "    .dataframe tbody tr th:only-of-type {\n",
       "        vertical-align: middle;\n",
       "    }\n",
       "\n",
       "    .dataframe tbody tr th {\n",
       "        vertical-align: top;\n",
       "    }\n",
       "\n",
       "    .dataframe thead th {\n",
       "        text-align: right;\n",
       "    }\n",
       "</style>\n",
       "<table border=\"1\" class=\"dataframe\">\n",
       "  <thead>\n",
       "    <tr style=\"text-align: right;\">\n",
       "      <th></th>\n",
       "      <th>mcv</th>\n",
       "      <th>alkphos</th>\n",
       "      <th>sgpt</th>\n",
       "      <th>sgot</th>\n",
       "      <th>gammagt</th>\n",
       "      <th>drinks</th>\n",
       "    </tr>\n",
       "  </thead>\n",
       "  <tbody>\n",
       "    <tr>\n",
       "      <th>0</th>\n",
       "      <td>85</td>\n",
       "      <td>92</td>\n",
       "      <td>45</td>\n",
       "      <td>27</td>\n",
       "      <td>31</td>\n",
       "      <td>0.0</td>\n",
       "    </tr>\n",
       "    <tr>\n",
       "      <th>1</th>\n",
       "      <td>85</td>\n",
       "      <td>64</td>\n",
       "      <td>59</td>\n",
       "      <td>32</td>\n",
       "      <td>23</td>\n",
       "      <td>0.0</td>\n",
       "    </tr>\n",
       "    <tr>\n",
       "      <th>2</th>\n",
       "      <td>86</td>\n",
       "      <td>54</td>\n",
       "      <td>33</td>\n",
       "      <td>16</td>\n",
       "      <td>54</td>\n",
       "      <td>0.0</td>\n",
       "    </tr>\n",
       "    <tr>\n",
       "      <th>3</th>\n",
       "      <td>91</td>\n",
       "      <td>78</td>\n",
       "      <td>34</td>\n",
       "      <td>24</td>\n",
       "      <td>36</td>\n",
       "      <td>0.0</td>\n",
       "    </tr>\n",
       "    <tr>\n",
       "      <th>4</th>\n",
       "      <td>87</td>\n",
       "      <td>70</td>\n",
       "      <td>12</td>\n",
       "      <td>28</td>\n",
       "      <td>10</td>\n",
       "      <td>0.0</td>\n",
       "    </tr>\n",
       "    <tr>\n",
       "      <th>...</th>\n",
       "      <td>...</td>\n",
       "      <td>...</td>\n",
       "      <td>...</td>\n",
       "      <td>...</td>\n",
       "      <td>...</td>\n",
       "      <td>...</td>\n",
       "    </tr>\n",
       "    <tr>\n",
       "      <th>340</th>\n",
       "      <td>99</td>\n",
       "      <td>75</td>\n",
       "      <td>26</td>\n",
       "      <td>24</td>\n",
       "      <td>41</td>\n",
       "      <td>12.0</td>\n",
       "    </tr>\n",
       "    <tr>\n",
       "      <th>341</th>\n",
       "      <td>96</td>\n",
       "      <td>69</td>\n",
       "      <td>53</td>\n",
       "      <td>43</td>\n",
       "      <td>203</td>\n",
       "      <td>12.0</td>\n",
       "    </tr>\n",
       "    <tr>\n",
       "      <th>342</th>\n",
       "      <td>98</td>\n",
       "      <td>77</td>\n",
       "      <td>55</td>\n",
       "      <td>35</td>\n",
       "      <td>89</td>\n",
       "      <td>15.0</td>\n",
       "    </tr>\n",
       "    <tr>\n",
       "      <th>343</th>\n",
       "      <td>91</td>\n",
       "      <td>68</td>\n",
       "      <td>27</td>\n",
       "      <td>26</td>\n",
       "      <td>14</td>\n",
       "      <td>16.0</td>\n",
       "    </tr>\n",
       "    <tr>\n",
       "      <th>344</th>\n",
       "      <td>98</td>\n",
       "      <td>99</td>\n",
       "      <td>57</td>\n",
       "      <td>45</td>\n",
       "      <td>65</td>\n",
       "      <td>20.0</td>\n",
       "    </tr>\n",
       "  </tbody>\n",
       "</table>\n",
       "<p>345 rows × 6 columns</p>\n",
       "</div>"
      ],
      "text/plain": [
       "     mcv  alkphos  sgpt  sgot  gammagt  drinks\n",
       "0     85       92    45    27       31     0.0\n",
       "1     85       64    59    32       23     0.0\n",
       "2     86       54    33    16       54     0.0\n",
       "3     91       78    34    24       36     0.0\n",
       "4     87       70    12    28       10     0.0\n",
       "..   ...      ...   ...   ...      ...     ...\n",
       "340   99       75    26    24       41    12.0\n",
       "341   96       69    53    43      203    12.0\n",
       "342   98       77    55    35       89    15.0\n",
       "343   91       68    27    26       14    16.0\n",
       "344   98       99    57    45       65    20.0\n",
       "\n",
       "[345 rows x 6 columns]"
      ]
     },
     "execution_count": 2,
     "metadata": {},
     "output_type": "execute_result"
    }
   ],
   "source": [
    "filename = \"Desktop/bupa.data\"\n",
    "\n",
    "cols = ['mcv', 'alkphos', 'sgpt', 'sgot', 'gammagt', 'drinks', 'selector']\n",
    "liver_disorders = pd.read_csv(filename, names=cols)\n",
    "liver_disorders = liver_disorders.drop(['selector'], axis =1)\n",
    "liver_disorders\n"
   ]
  },
  {
   "cell_type": "raw",
   "id": "066a3e75",
   "metadata": {},
   "source": [
    "a) \n",
    "Legend: \n",
    "mcv - mean corpuscular volume\n",
    "alkphos - alkaline photosphotase\n",
    "sgpt - alanine aminotransferase\n",
    "sgot - aspartate aminotransferase\n",
    "gammagt - gamma-glutamyl transpeptidase\n",
    "drinks - number of half-pint equivalents of alcoholic beverages drunk per day\n",
    "selector - \tfield created by the BUPA researchers to split the data into train/test sets (we won't use it)\n",
    "\n",
    "Our dataset concerns liver disorders among male respondents. It consists of 5 features which are blood tests. All of them are thought to be sensitive to liver disorders resulting from alcohol abuse. Our target variable 'drinks' is continuous and represents the number of half-pint alcoholic beverages per day. As the 'selector' field was added by researchers and is not meaningful for our regression, we decided to drop it. "
   ]
  },
  {
   "cell_type": "raw",
   "id": "78629c3e",
   "metadata": {},
   "source": [
    "b)"
   ]
  },
  {
   "cell_type": "code",
   "execution_count": 3,
   "id": "3bd12e76",
   "metadata": {},
   "outputs": [],
   "source": [
    "from sklearn.preprocessing import MinMaxScaler\n",
    "import random, time\n",
    "from sklearn.model_selection import train_test_split\n",
    "from sklearn.linear_model import LinearRegression\n",
    "from sklearn.metrics import mean_squared_error, mean_absolute_error, r2_score\n",
    "\n",
    "X = liver_disorders[liver_disorders.columns[:-1]]\n",
    "Y = liver_disorders['drinks']\n",
    "seed=random.seed(time.time())\n",
    "\n",
    "X_train, X_test, y_train, y_test = train_test_split(X, Y, test_size =0.25, random_state=seed)\n",
    "stdScaler = MinMaxScaler().fit(X_train)\n",
    "X_train = stdScaler.transform(X_train)\n",
    "X_test = stdScaler.transform(X_test)\n",
    "\n",
    "model = LinearRegression()\n",
    "model.fit(X_train, y_train)\n",
    "y_pred = model.predict(X_test)"
   ]
  },
  {
   "cell_type": "raw",
   "id": "f893675d",
   "metadata": {},
   "source": [
    "c)"
   ]
  },
  {
   "cell_type": "code",
   "execution_count": 11,
   "id": "3e0de596",
   "metadata": {},
   "outputs": [
    {
     "name": "stdout",
     "output_type": "stream",
     "text": [
      "Mean Squared error: 10.488124484532715\n",
      "\n",
      "Root Mean Squared error: 3.238537398970825\n",
      "\n",
      "Mean Absolute Error: 2.47175708181121\n",
      "\n",
      "R2 score: 0.08990777828621699 \n"
     ]
    }
   ],
   "source": [
    "rmse = (np.sqrt(mean_squared_error(y_test, y_pred)))\n",
    "print(f\"Mean Squared error: {mean_squared_error(y_test, y_pred)}\\n\")\n",
    "print(f\"Root Mean Squared error: {rmse}\\n\")\n",
    "print(f\"Mean Absolute Error: {mean_absolute_error(y_test, y_pred)}\\n\")\n",
    "print(f\"R2 score: {r2_score(y_test, y_pred)} \")\n"
   ]
  },
  {
   "cell_type": "raw",
   "id": "2f44a9f4",
   "metadata": {},
   "source": [
    "d)"
   ]
  },
  {
   "cell_type": "code",
   "execution_count": 5,
   "id": "ceddbd68",
   "metadata": {},
   "outputs": [
    {
     "name": "stdout",
     "output_type": "stream",
     "text": [
      "Model coefficients:\n",
      "[ 7.0620188  -0.80399659 -1.03722444  4.77382896  5.59847994]\n"
     ]
    }
   ],
   "source": [
    "print(f\"Model coefficients:\\n{model.coef_}\")"
   ]
  },
  {
   "cell_type": "raw",
   "id": "ffdb325a",
   "metadata": {},
   "source": [
    "Obtained coefficients depict the dependence between particular featrue and target variable. We can see that coulums 'mcv', 'sgot', and 'gammagt' have by far the strongest impact on our result. Thay are more than 5 times more important than 'alkphos' and 'sgpt'. All of these high coefficients are also greater than 0. That means that these features are positively correlated with target variable - as the value of the independent variable increases, the mean of the dependent variable also tends to increase. The situation is opposite for 'sgpt' and 'alkhpos' columns which have negative coefficients. We may conclude that increasing consumption of alcoholic beverages leads to higher levels of certain indicators in blood tests and lower levels of anothers. Alcohol abuse affects especially such blood parameters as mean corpuscular volume, aspartate aminotransferase and gamma-glutamyl transpeptidase. "
   ]
  },
  {
   "cell_type": "raw",
   "id": "75c9ed72",
   "metadata": {},
   "source": [
    "e)"
   ]
  },
  {
   "cell_type": "code",
   "execution_count": 6,
   "id": "71cc9b1d",
   "metadata": {},
   "outputs": [
    {
     "data": {
      "image/png": "[encoded data removed]",
      "text/plain": [
       "<Figure size 800x600 with 1 Axes>"
      ]
     },
     "metadata": {},
     "output_type": "display_data"
    },
    {
     "data": {
      "image/png": "[encoded data removed]",
      "text/plain": [
       "<Figure size 800x600 with 1 Axes>"
      ]
     },
     "metadata": {},
     "output_type": "display_data"
    },
    {
     "data": {
      "image/png": "[encoded data removed]",
      "text/plain": [
       "<Figure size 800x600 with 1 Axes>"
      ]
     },
     "metadata": {},
     "output_type": "display_data"
    },
    {
     "data": {
      "image/png": "[encoded data removed]",
      "text/plain": [
       "<Figure size 800x600 with 1 Axes>"
      ]
     },
     "metadata": {},
     "output_type": "display_data"
    },
    {
     "data": {
      "image/png": "[encoded data removed]",
      "text/plain": [
       "<Figure size 800x600 with 1 Axes>"
      ]
     },
     "metadata": {},
     "output_type": "display_data"
    }
   ],
   "source": [
    "import matplotlib.pyplot as plt\n",
    "import seaborn as sns\n",
    "\n",
    "features = ['mcv', 'alkphos', 'sgpt', 'sgot', 'gammagt']\n",
    "    \n",
    "for feature in features:\n",
    "    plt.figure(figsize=(8, 6))\n",
    "    sns.scatterplot(data=liver_disorders, x=feature, y='drinks')\n",
    "    plt.title(f'Scatter Plot for {feature} vs. drinks ')\n",
    "    plt.xlabel(feature)\n",
    "    plt.ylabel('drinks')\n",
    "    plt.show()\n"
   ]
  },
  {
   "cell_type": "raw",
   "id": "e8795fdf",
   "metadata": {},
   "source": [
    "We assume that feature 'mcv' is the most useful as a predictor variable. Not only does it have the highest coefficient but also shows the most linear tendency visible on scatter plot. "
   ]
  },
  {
   "cell_type": "raw",
   "id": "4d1ff1c4",
   "metadata": {},
   "source": [
    "f)"
   ]
  },
  {
   "cell_type": "code",
   "execution_count": 7,
   "id": "e6e8e582",
   "metadata": {},
   "outputs": [],
   "source": [
    "X_ = X[['mcv']]\n",
    "X_train_, X_test_, y_train_, y_test_ = train_test_split(X_, Y, test_size =0.25, random_state=seed)\n",
    "stdScaler = MinMaxScaler().fit(X_train_)\n",
    "X_train_ = stdScaler.transform(X_train_)\n",
    "X_test_ = stdScaler.transform(X_test_)\n",
    "\n",
    "model = LinearRegression()\n",
    "model.fit(X_train_, y_train_)\n",
    "y_pred_ = model.predict(X_test_)\n"
   ]
  },
  {
   "cell_type": "raw",
   "id": "6c2a6cdf",
   "metadata": {},
   "source": [
    "g)"
   ]
  },
  {
   "cell_type": "code",
   "execution_count": 8,
   "id": "74485d21",
   "metadata": {},
   "outputs": [
    {
     "name": "stdout",
     "output_type": "stream",
     "text": [
      "Mean Squared error: 10.093792486640037\n",
      "\n",
      "Root Mean Squared error: 3.1770729432356504\n",
      "\n",
      "Mean Absolute Error: 2.4238493423141017\n",
      "\n",
      "R2 score: 0.08067655384030403 \n"
     ]
    }
   ],
   "source": [
    "print(f\"Mean Squared error: {mean_squared_error(y_test_, y_pred_)}\\n\")\n",
    "print(f\"Root Mean Squared error: {(np.sqrt(mean_squared_error(y_test_, y_pred_)))}\\n\")\n",
    "print(f\"Mean Absolute Error: {mean_absolute_error(y_test_, y_pred_)}\\n\")\n",
    "print(f\"Accuracy score: {accuracy_score(y_test_, y_pred_)}\\n\")\n",
    "print(f\"R2 score: {r2_score(y_test_, y_pred_)} \")"
   ]
  },
  {
   "cell_type": "raw",
   "id": "5886131b",
   "metadata": {},
   "source": [
    "h)"
   ]
  },
  {
   "cell_type": "raw",
   "id": "66543069",
   "metadata": {},
   "source": [
    "Comparing the metrics obtained for multiple and single feature model we can see that the second one performs slighlty better. However, this differences are not very big, both models predicts target feature with similar accuracy. We can find two factors that may influence this tendency. Firstly, mcv feature is almost twice as important as the rest of the most important features. We can deduce that from the model coefficients. That means that this feature has by far the strongest impact on final prediction. However, even this feature do not present a very clear linear relationship with the target variable. Therefore our linear regression model does not obtain spectacular results. "
   ]
  },
  {
   "cell_type": "markdown",
   "id": "57f219ed",
   "metadata": {},
   "source": [
    "### Exercise 2 "
   ]
  },
  {
   "cell_type": "code",
   "execution_count": 65,
   "id": "a18e8a90",
   "metadata": {},
   "outputs": [],
   "source": [
    "import numpy, random, time\n",
    "from sklearn.model_selection import train_test_split\n",
    "from sklearn.linear_model import LinearRegression\n",
    "from pandas import read_csv\n",
    "from sklearn.metrics import mean_squared_error\n",
    "from sklearn.preprocessing import RobustScaler,MinMaxScaler,StandardScaler\n",
    "\n",
    "train_data = np.array([\n",
    "    [20,1,113],\n",
    "    [22,1,118],\n",
    "    [25,1,127],\n",
    "    [25,2,132],\n",
    "    [30,2,156],\n",
    "    [30,2,144],\n",
    "    [30,3,138],\n",
    "    [45,2,166],\n",
    "    [40,2,156],\n",
    "    [40,3,149]\n",
    "])\n",
    "X1_train = train_data[:,0]\n",
    "X2_train = train_data[:,1]\n",
    "X_train = train_data[:,:2]\n",
    "Y_train = train_data[:,-1]\n",
    "test_data = np.array([\n",
    "    [35,1,200],\n",
    "    [25,2,116],\n",
    "    [25,2,122],\n",
    "    [20,1,130],\n",
    "    [35,2,150],\n",
    "    [25,2,120],\n",
    "    [42,1,146],\n",
    "    [35,1,155],\n",
    "    [40,2,156],\n",
    "    [42,2,147]\n",
    "])\n",
    "X1_test = test_data[:,0]\n",
    "X2_test = test_data[:,1]\n",
    "X_test = test_data[:,:2]\n",
    "Y_test = test_data[:,-1]"
   ]
  },
  {
   "cell_type": "code",
   "execution_count": 66,
   "id": "f3fb3019",
   "metadata": {},
   "outputs": [
    {
     "name": "stdout",
     "output_type": "stream",
     "text": [
      "Model a: \n",
      "w1 =  [1.87935657]\n",
      "w0 =  82.20375335120647\n",
      "Predictions of the A model: \n",
      "[147.98123324 129.18766756 129.18766756 119.79088472 147.98123324\n",
      " 129.18766756 161.13672922 147.98123324 157.37801609 161.13672922]\n",
      "Model b: \n",
      "w2 =  [14.06122449]\n",
      "w0 =  113.18367346938774\n",
      "Predictions of the B model: \n",
      "[127.24489796 141.30612245 141.30612245 127.24489796 141.30612245\n",
      " 141.30612245 127.24489796 127.24489796 141.30612245 141.30612245]\n",
      "Model c: \n",
      "w1 =  1.7842142639748393\n",
      "w2 =  1.7901998579689535\n",
      "w0 =  81.72324236583142\n",
      "Predictions of the C model: \n",
      "[145.96094146 129.90899868 129.90899868 119.1977275  147.75114132\n",
      " 129.90899868 158.45044131 145.96094146 156.67221264 160.24064117]\n"
     ]
    }
   ],
   "source": [
    "# model a\n",
    "model_a = LinearRegression()\n",
    "model_a.fit(X1_train.reshape(-1,1),Y_train)\n",
    "print(\"Model a: \")\n",
    "print(\"w1 = \",model_a.coef_)\n",
    "print(\"w0 = \", model_a.intercept_)\n",
    "Y_predict_a = model_a.predict(X1_test.reshape(-1,1))\n",
    "print(\"Predictions of the A model: \")\n",
    "print(Y_predict_a)\n",
    "# model b\n",
    "model_b = LinearRegression()\n",
    "model_b.fit(X2_train.reshape(-1,1),Y_train)\n",
    "print(\"Model b: \")\n",
    "print(\"w2 = \",model_b.coef_)\n",
    "print(\"w0 = \", model_b.intercept_)\n",
    "Y_predict_b = model_b.predict(X2_test.reshape(-1,1))\n",
    "print(\"Predictions of the B model: \")\n",
    "print(Y_predict_b)\n",
    "# model c\n",
    "X_train = np.column_stack((X1_train, X2_train))\n",
    "X_test = np.column_stack((X1_test, X2_test))\n",
    "model_c = LinearRegression()\n",
    "model_c.fit(X_train,Y_train)\n",
    "print(\"Model c: \")\n",
    "print(\"w1 = \",model_c.coef_[0])\n",
    "print(\"w2 = \",model_c.coef_[1] )\n",
    "print(\"w0 = \", model_c.intercept_)\n",
    "Y_predict_c = model_c.predict(X_test)\n",
    "print(\"Predictions of the C model: \")\n",
    "print(Y_predict_c)"
   ]
  },
  {
   "cell_type": "code",
   "execution_count": 67,
   "id": "5f1ed40b",
   "metadata": {},
   "outputs": [
    {
     "name": "stdout",
     "output_type": "stream",
     "text": [
      "MODEL A\n",
      "Mean Square Error: 360.4373624478002\n",
      "Root Mean Square Error: 18.985187975045182\n",
      "Mean Absolute Error: 13.147989276139407\n",
      "R2 score: 0.3434178037602008\n",
      "MODEL 2\n",
      "Mean Square Error: 821.3985839233653\n",
      "Root Mean Square Error: 28.660052057234044\n",
      "Mean Absolute Error: 21.70204081632653\n",
      "R2 score: -0.4962813026875643\n",
      "MODEL 3\n",
      "Mean Square Error: 380.8651579800747\n",
      "Root Mean Square Error: 19.51576690730023\n",
      "Mean Absolute Error: 13.421953941361462\n",
      "R2 score: 0.3062059931869815\n"
     ]
    }
   ],
   "source": [
    "from sklearn.metrics import mean_squared_error, mean_absolute_error, r2_score\n",
    "#model 1 \n",
    "print(\"MODEL A\")\n",
    "print(f\"Mean Square Error: {mean_squared_error(Y_test, Y_predict_a)}\")\n",
    "print(f\"Root Mean Square Error: {np.sqrt(mean_squared_error(Y_test, Y_predict_a))}\")\n",
    "print(f\"Mean Absolute Error: {mean_absolute_error(Y_test, Y_predict_a)}\")\n",
    "print(f\"R2 score: {r2_score(Y_test, Y_predict_a)}\")\n",
    "\n",
    "print(\"MODEL 2\")\n",
    "print(f\"Mean Square Error: {mean_squared_error(Y_test, Y_predict_b)}\")\n",
    "print(f\"Root Mean Square Error: {np.sqrt(mean_squared_error(Y_test, Y_predict_b))}\")\n",
    "print(f\"Mean Absolute Error: {mean_absolute_error(Y_test, Y_predict_b)}\")\n",
    "print(f\"R2 score: {r2_score(Y_test, Y_predict_b)}\")\n",
    "\n",
    "print(\"MODEL 3\")\n",
    "print(f\"Mean Square Error: {mean_squared_error(Y_test, Y_predict_c)}\")\n",
    "print(f\"Root Mean Square Error: {np.sqrt(mean_squared_error(Y_test, Y_predict_c))}\")\n",
    "print(f\"Mean Absolute Error: {mean_absolute_error(Y_test, Y_predict_c)}\")\n",
    "print(f\"R2 score: {r2_score(Y_test, Y_predict_c)}\")\n"
   ]
  },
  {
   "cell_type": "markdown",
   "id": "5454abca",
   "metadata": {},
   "source": [
    "### Exercise 3 "
   ]
  },
  {
   "cell_type": "code",
   "execution_count": 68,
   "id": "e5f573a8",
   "metadata": {},
   "outputs": [
    {
     "name": "stdout",
     "output_type": "stream",
     "text": [
      "Model a scaled : \n",
      "w1 =  [46.98391421]\n",
      "w0 =  119.79088471849867\n",
      "Predictions of the A scaled model: \n",
      "[147.98123324 129.18766756 129.18766756 119.79088472 147.98123324\n",
      " 129.18766756 161.13672922 147.98123324 157.37801609 161.13672922]\n",
      "Model b scaled : \n",
      "w2 =  [28.12244898]\n",
      "w0 =  127.24489795918367\n",
      "Predictions of the B scaled model: \n",
      "[127.24489796 141.30612245 141.30612245 127.24489796 141.30612245\n",
      " 141.30612245 127.24489796 127.24489796 141.30612245 141.30612245]\n",
      "Model c scaled: \n",
      "w1 =  44.605356599371\n",
      "w2 =  3.5803997159379235\n",
      "w0 =  119.19772750329716\n",
      "Predictions of the C scaled model: \n",
      "[145.96094146 129.90899868 129.90899868 119.1977275  147.75114132\n",
      " 129.90899868 158.45044131 145.96094146 156.67221264 160.24064117]\n"
     ]
    }
   ],
   "source": [
    "from sklearn.preprocessing import MinMaxScaler\n",
    "\n",
    "scaler = MinMaxScaler().fit(X_train)\n",
    "X_train_scaled = scaler.transform(X_train)\n",
    "X_test_scaled = scaler.transform(X_test)\n",
    "X1_train_scaled = X_train_scaled[:,0]\n",
    "X2_train_scaled = X_train_scaled[:,1]\n",
    "X1_test_scaled = X_test_scaled[:,0]\n",
    "X2_test_scaled = X_test_scaled[:,1]\n",
    "\n",
    "# model a\n",
    "model_a1 = LinearRegression()\n",
    "model_a1.fit(X1_train_scaled.reshape(-1,1),Y_train)\n",
    "print(\"Model a scaled : \")\n",
    "print(\"w1 = \",model_a1.coef_)\n",
    "print(\"w0 = \", model_a1.intercept_)\n",
    "Y_predict_a1 = model_a1.predict(X1_test_scaled.reshape(-1,1))\n",
    "print(\"Predictions of the A scaled model: \")\n",
    "print(Y_predict_a1)\n",
    "\n",
    "\n",
    "# model b\n",
    "model_b1 = LinearRegression()\n",
    "model_b1.fit(X2_train_scaled.reshape(-1,1),Y_train)\n",
    "print(\"Model b scaled : \")\n",
    "print(\"w2 = \",model_b1.coef_)\n",
    "print(\"w0 = \", model_b1.intercept_)\n",
    "Y_predict_b1 = model_b1.predict(X2_test_scaled.reshape(-1,1))\n",
    "print(\"Predictions of the B scaled model: \")\n",
    "print(Y_predict_b1)\n",
    "\n",
    "# model c\n",
    "X_train2 = np.column_stack((X1_train_scaled, X2_train_scaled))\n",
    "X_test2 = np.column_stack((X1_test_scaled, X2_test_scaled))\n",
    "model_c1 = LinearRegression()\n",
    "model_c1.fit(X_train2,Y_train)\n",
    "print(\"Model c scaled: \")\n",
    "print(\"w1 = \",model_c1.coef_[0])\n",
    "print(\"w2 = \",model_c1.coef_[1] )\n",
    "print(\"w0 = \", model_c1.intercept_)\n",
    "Y_predict_c1 = model_c1.predict(X_test2)\n",
    "print(\"Predictions of the C scaled model: \")\n",
    "print(Y_predict_c1)"
   ]
  },
  {
   "cell_type": "code",
   "execution_count": 69,
   "id": "80aacad5",
   "metadata": {},
   "outputs": [
    {
     "name": "stdout",
     "output_type": "stream",
     "text": [
      "MODEL A\n",
      "Mean Square Error: 360.4373624478002\n",
      "Root Mean Square Error: 18.985187975045182\n",
      "Mean Absolute Error: 13.147989276139407\n",
      "R2 score: 0.3434178037602008\n",
      "MODEL 2\n",
      "Mean Square Error: 821.3985839233653\n",
      "Root Mean Square Error: 28.660052057234044\n",
      "Mean Absolute Error: 21.70204081632653\n",
      "R2 score: -0.4962813026875643\n",
      "MODEL 3\n",
      "Mean Square Error: 380.86515798007446\n",
      "Root Mean Square Error: 19.515766907300222\n",
      "Mean Absolute Error: 13.421953941361462\n",
      "R2 score: 0.30620599318698194\n"
     ]
    }
   ],
   "source": [
    "from sklearn.metrics import mean_squared_error, mean_absolute_error, r2_score\n",
    "#model 1 \n",
    "print(\"MODEL A\")\n",
    "print(f\"Mean Square Error: {mean_squared_error(Y_test, Y_predict_a1)}\")\n",
    "print(f\"Root Mean Square Error: {np.sqrt(mean_squared_error(Y_test, Y_predict_a1))}\")\n",
    "print(f\"Mean Absolute Error: {mean_absolute_error(Y_test, Y_predict_a1)}\")\n",
    "print(f\"R2 score: {r2_score(Y_test, Y_predict_a1)}\")\n",
    "\n",
    "print(\"MODEL 2\")\n",
    "print(f\"Mean Square Error: {mean_squared_error(Y_test, Y_predict_b1)}\")\n",
    "print(f\"Root Mean Square Error: {np.sqrt(mean_squared_error(Y_test, Y_predict_b1))}\")\n",
    "print(f\"Mean Absolute Error: {mean_absolute_error(Y_test, Y_predict_b1)}\")\n",
    "print(f\"R2 score: {r2_score(Y_test, Y_predict_b1)}\")\n",
    "\n",
    "print(\"MODEL 3\")\n",
    "print(f\"Mean Square Error: {mean_squared_error(Y_test, Y_predict_c1)}\")\n",
    "print(f\"Root Mean Square Error: {np.sqrt(mean_squared_error(Y_test, Y_predict_c1))}\")\n",
    "print(f\"Mean Absolute Error: {mean_absolute_error(Y_test, Y_predict_c1)}\")\n",
    "print(f\"R2 score: {r2_score(Y_test, Y_predict_c1)}\")"
   ]
  },
  {
   "cell_type": "markdown",
   "id": "ee1a9778",
   "metadata": {},
   "source": [
    "### Exercise 4 "
   ]
  },
  {
   "cell_type": "raw",
   "id": "8795ea74",
   "metadata": {},
   "source": [
    "a)"
   ]
  },
  {
   "cell_type": "code",
   "execution_count": 75,
   "id": "3f630a70",
   "metadata": {},
   "outputs": [
    {
     "data": {
      "text/html": [
       "<div>\n",
       "<style scoped>\n",
       "    .dataframe tbody tr th:only-of-type {\n",
       "        vertical-align: middle;\n",
       "    }\n",
       "\n",
       "    .dataframe tbody tr th {\n",
       "        vertical-align: top;\n",
       "    }\n",
       "\n",
       "    .dataframe thead th {\n",
       "        text-align: right;\n",
       "    }\n",
       "</style>\n",
       "<table border=\"1\" class=\"dataframe\">\n",
       "  <thead>\n",
       "    <tr style=\"text-align: right;\">\n",
       "      <th></th>\n",
       "      <th>age</th>\n",
       "      <th>sex</th>\n",
       "      <th>cp</th>\n",
       "      <th>trtbps</th>\n",
       "      <th>chol</th>\n",
       "      <th>fbs</th>\n",
       "      <th>restecg</th>\n",
       "      <th>thalachh</th>\n",
       "      <th>exng</th>\n",
       "      <th>oldpeak</th>\n",
       "      <th>slp</th>\n",
       "      <th>caa</th>\n",
       "      <th>thall</th>\n",
       "      <th>output</th>\n",
       "    </tr>\n",
       "  </thead>\n",
       "  <tbody>\n",
       "    <tr>\n",
       "      <th>1</th>\n",
       "      <td>63</td>\n",
       "      <td>1</td>\n",
       "      <td>3</td>\n",
       "      <td>145</td>\n",
       "      <td>233</td>\n",
       "      <td>1</td>\n",
       "      <td>0</td>\n",
       "      <td>150</td>\n",
       "      <td>0</td>\n",
       "      <td>2.3</td>\n",
       "      <td>0</td>\n",
       "      <td>0</td>\n",
       "      <td>1</td>\n",
       "      <td>1</td>\n",
       "    </tr>\n",
       "    <tr>\n",
       "      <th>2</th>\n",
       "      <td>37</td>\n",
       "      <td>1</td>\n",
       "      <td>2</td>\n",
       "      <td>130</td>\n",
       "      <td>250</td>\n",
       "      <td>0</td>\n",
       "      <td>1</td>\n",
       "      <td>187</td>\n",
       "      <td>0</td>\n",
       "      <td>3.5</td>\n",
       "      <td>0</td>\n",
       "      <td>0</td>\n",
       "      <td>2</td>\n",
       "      <td>1</td>\n",
       "    </tr>\n",
       "    <tr>\n",
       "      <th>3</th>\n",
       "      <td>41</td>\n",
       "      <td>0</td>\n",
       "      <td>1</td>\n",
       "      <td>130</td>\n",
       "      <td>204</td>\n",
       "      <td>0</td>\n",
       "      <td>0</td>\n",
       "      <td>172</td>\n",
       "      <td>0</td>\n",
       "      <td>1.4</td>\n",
       "      <td>2</td>\n",
       "      <td>0</td>\n",
       "      <td>2</td>\n",
       "      <td>1</td>\n",
       "    </tr>\n",
       "    <tr>\n",
       "      <th>4</th>\n",
       "      <td>56</td>\n",
       "      <td>1</td>\n",
       "      <td>1</td>\n",
       "      <td>120</td>\n",
       "      <td>236</td>\n",
       "      <td>0</td>\n",
       "      <td>1</td>\n",
       "      <td>178</td>\n",
       "      <td>0</td>\n",
       "      <td>0.8</td>\n",
       "      <td>2</td>\n",
       "      <td>0</td>\n",
       "      <td>2</td>\n",
       "      <td>1</td>\n",
       "    </tr>\n",
       "    <tr>\n",
       "      <th>5</th>\n",
       "      <td>57</td>\n",
       "      <td>0</td>\n",
       "      <td>0</td>\n",
       "      <td>120</td>\n",
       "      <td>354</td>\n",
       "      <td>0</td>\n",
       "      <td>1</td>\n",
       "      <td>163</td>\n",
       "      <td>1</td>\n",
       "      <td>0.6</td>\n",
       "      <td>2</td>\n",
       "      <td>0</td>\n",
       "      <td>2</td>\n",
       "      <td>1</td>\n",
       "    </tr>\n",
       "    <tr>\n",
       "      <th>...</th>\n",
       "      <td>...</td>\n",
       "      <td>...</td>\n",
       "      <td>...</td>\n",
       "      <td>...</td>\n",
       "      <td>...</td>\n",
       "      <td>...</td>\n",
       "      <td>...</td>\n",
       "      <td>...</td>\n",
       "      <td>...</td>\n",
       "      <td>...</td>\n",
       "      <td>...</td>\n",
       "      <td>...</td>\n",
       "      <td>...</td>\n",
       "      <td>...</td>\n",
       "    </tr>\n",
       "    <tr>\n",
       "      <th>299</th>\n",
       "      <td>57</td>\n",
       "      <td>0</td>\n",
       "      <td>0</td>\n",
       "      <td>140</td>\n",
       "      <td>241</td>\n",
       "      <td>0</td>\n",
       "      <td>1</td>\n",
       "      <td>123</td>\n",
       "      <td>1</td>\n",
       "      <td>0.2</td>\n",
       "      <td>1</td>\n",
       "      <td>0</td>\n",
       "      <td>3</td>\n",
       "      <td>0</td>\n",
       "    </tr>\n",
       "    <tr>\n",
       "      <th>300</th>\n",
       "      <td>45</td>\n",
       "      <td>1</td>\n",
       "      <td>3</td>\n",
       "      <td>110</td>\n",
       "      <td>264</td>\n",
       "      <td>0</td>\n",
       "      <td>1</td>\n",
       "      <td>132</td>\n",
       "      <td>0</td>\n",
       "      <td>1.2</td>\n",
       "      <td>1</td>\n",
       "      <td>0</td>\n",
       "      <td>3</td>\n",
       "      <td>0</td>\n",
       "    </tr>\n",
       "    <tr>\n",
       "      <th>301</th>\n",
       "      <td>68</td>\n",
       "      <td>1</td>\n",
       "      <td>0</td>\n",
       "      <td>144</td>\n",
       "      <td>193</td>\n",
       "      <td>1</td>\n",
       "      <td>1</td>\n",
       "      <td>141</td>\n",
       "      <td>0</td>\n",
       "      <td>3.4</td>\n",
       "      <td>1</td>\n",
       "      <td>2</td>\n",
       "      <td>3</td>\n",
       "      <td>0</td>\n",
       "    </tr>\n",
       "    <tr>\n",
       "      <th>302</th>\n",
       "      <td>57</td>\n",
       "      <td>1</td>\n",
       "      <td>0</td>\n",
       "      <td>130</td>\n",
       "      <td>131</td>\n",
       "      <td>0</td>\n",
       "      <td>1</td>\n",
       "      <td>115</td>\n",
       "      <td>1</td>\n",
       "      <td>1.2</td>\n",
       "      <td>1</td>\n",
       "      <td>1</td>\n",
       "      <td>3</td>\n",
       "      <td>0</td>\n",
       "    </tr>\n",
       "    <tr>\n",
       "      <th>303</th>\n",
       "      <td>57</td>\n",
       "      <td>0</td>\n",
       "      <td>1</td>\n",
       "      <td>130</td>\n",
       "      <td>236</td>\n",
       "      <td>0</td>\n",
       "      <td>0</td>\n",
       "      <td>174</td>\n",
       "      <td>0</td>\n",
       "      <td>0</td>\n",
       "      <td>1</td>\n",
       "      <td>1</td>\n",
       "      <td>2</td>\n",
       "      <td>0</td>\n",
       "    </tr>\n",
       "  </tbody>\n",
       "</table>\n",
       "<p>303 rows × 14 columns</p>\n",
       "</div>"
      ],
      "text/plain": [
       "    age sex cp trtbps chol fbs restecg thalachh exng oldpeak slp caa thall  \\\n",
       "1    63   1  3    145  233   1       0      150    0     2.3   0   0     1   \n",
       "2    37   1  2    130  250   0       1      187    0     3.5   0   0     2   \n",
       "3    41   0  1    130  204   0       0      172    0     1.4   2   0     2   \n",
       "4    56   1  1    120  236   0       1      178    0     0.8   2   0     2   \n",
       "5    57   0  0    120  354   0       1      163    1     0.6   2   0     2   \n",
       "..   ..  .. ..    ...  ...  ..     ...      ...  ...     ...  ..  ..   ...   \n",
       "299  57   0  0    140  241   0       1      123    1     0.2   1   0     3   \n",
       "300  45   1  3    110  264   0       1      132    0     1.2   1   0     3   \n",
       "301  68   1  0    144  193   1       1      141    0     3.4   1   2     3   \n",
       "302  57   1  0    130  131   0       1      115    1     1.2   1   1     3   \n",
       "303  57   0  1    130  236   0       0      174    0       0   1   1     2   \n",
       "\n",
       "    output  \n",
       "1        1  \n",
       "2        1  \n",
       "3        1  \n",
       "4        1  \n",
       "5        1  \n",
       "..     ...  \n",
       "299      0  \n",
       "300      0  \n",
       "301      0  \n",
       "302      0  \n",
       "303      0  \n",
       "\n",
       "[303 rows x 14 columns]"
      ]
     },
     "execution_count": 75,
     "metadata": {},
     "output_type": "execute_result"
    }
   ],
   "source": [
    "from sklearn.linear_model import LogisticRegression\n",
    "from sklearn.preprocessing import StandardScaler\n",
    "from sklearn.metrics import confusion_matrix, accuracy_score, balanced_accuracy_score, classification_report\n",
    "\n",
    "\n",
    "heart_filename = \"Desktop/heart.csv\"\n",
    "columns = ['age', 'sex','cp', 'trtbps', 'chol', 'fbs', 'restecg', 'thalachh', 'exng', 'oldpeak', 'slp', 'caa', 'thall', 'output']\n",
    "heartData = pd.read_csv(heart_filename, names=columns)\n",
    "heartData = heartData.drop(0)\n",
    "heartData"
   ]
  },
  {
   "cell_type": "raw",
   "id": "71062bd4",
   "metadata": {},
   "source": [
    "LEGEND:\n",
    "Age : Age of the patient\n",
    "Sex : Sex of the patient, (0=female, 1=male)\n",
    "exng: exercise induced angina (1 = yes; 0 = no)\n",
    "slp - slope\n",
    "caa: number of major vessels (0-3)\n",
    "cp : Chest Pain type chest pain type\n",
    "    Value 1: typical angina\n",
    "    Value 2: atypical angina\n",
    "    Value 3: non-anginal pain\n",
    "    Value 4: asymptomatic\n",
    "trtbps : resting blood pressure (in mm Hg)\n",
    "chol : cholestoral in mg/dl fetched via BMI sensor\n",
    "fbs : (fasting blood sugar > 120 mg/dl) (1 = true; 0 = false)\n",
    "oldpeak - previous peak\n",
    "restecg : resting electrocardiographic results\n",
    "    Value 0: normal\n",
    "    Value 1: having ST-T wave abnormality (T wave inversions and/or ST elevation or depression of > 0.05 mV)\n",
    "    Value 2: showing probable or definite left ventricular hypertrophy by Estes' criteria\n",
    "thalach : maximum heart rate achieved\n",
    "thall - Thalium Stress Test result\n",
    "target : 0= less chance of heart attack 1= more chance of heart attack"
   ]
  },
  {
   "cell_type": "code",
   "execution_count": 76,
   "id": "8db19d41",
   "metadata": {},
   "outputs": [],
   "source": [
    "X = heartData[heartData.columns[:-1]]\n",
    "Y = heartData['output']\n",
    "seed=random.seed(time.time())\n",
    "\n",
    "X_train, X_test, Y_train, Y_test = train_test_split(X, Y, test_size =0.25, random_state=seed)\n",
    "stdScaler = MinMaxScaler().fit(X_train)\n",
    "X_train = stdScaler.transform(X_train)\n",
    "X_test = stdScaler.transform(X_test)\n"
   ]
  },
  {
   "cell_type": "code",
   "execution_count": 77,
   "id": "05f3a45f",
   "metadata": {},
   "outputs": [],
   "source": [
    "logreg = LogisticRegression(penalty=None)\n",
    "logreg.fit(X_train, Y_train)\n",
    "y_pred = logreg.predict(X_test)"
   ]
  },
  {
   "cell_type": "raw",
   "id": "f9a38a70",
   "metadata": {},
   "source": [
    "b)"
   ]
  },
  {
   "cell_type": "code",
   "execution_count": 78,
   "id": "0f3f4ce8",
   "metadata": {},
   "outputs": [
    {
     "name": "stdout",
     "output_type": "stream",
     "text": [
      "Confusion matrix: \n",
      "[[32  7]\n",
      " [ 5 32]]\n",
      "Accuracy score: 0.8421052631578947\n",
      "R2 score: 0.36798336798336784 \n",
      "Mean Squared error: 0.15789473684210525\n"
     ]
    }
   ],
   "source": [
    "cm = confusion_matrix(Y_test, y_pred)\n",
    "acc1= accuracy_score(Y_test, y_pred)\n",
    "r21 = r2_score(Y_test, y_pred)\n",
    "MSE1 = mean_squared_error(Y_test, y_pred)\n",
    "\n",
    "print(f\"Confusion matrix: \\n{cm}\")\n",
    "print(f\"Accuracy score: {acc1}\")\n",
    "print(f\"R2 score: {r21} \")\n",
    "print(f\"Mean Squared error: {MSE1}\")"
   ]
  },
  {
   "cell_type": "raw",
   "id": "91364002",
   "metadata": {},
   "source": [
    "c)"
   ]
  },
  {
   "cell_type": "code",
   "execution_count": 79,
   "id": "96d5d526",
   "metadata": {},
   "outputs": [
    {
     "name": "stdout",
     "output_type": "stream",
     "text": [
      "Odds ratios for each feature:\n",
      "\n",
      "            age       sex         cp   trtbps      chol       fbs   restecg  \\\n",
      "ratio  1.079834  0.160234  16.500531  0.03373  0.105269  0.967721  3.285528   \n",
      "\n",
      "        thalachh      exng   oldpeak       slp       caa     thall  \n",
      "ratio  10.183566  0.605041  0.007486  3.027084  0.034777  0.087586  \n"
     ]
    }
   ],
   "source": [
    "coefficients = logreg.coef_\n",
    "odds_ratios = np.exp(coefficients)\n",
    "\n",
    "feature_names = [i for i in columns[:-1]]\n",
    "odds_ratios_df = pd.DataFrame(odds_ratios,index = ['ratio'], columns=feature_names)\n",
    "print(f\"Odds ratios for each feature:\\n\\n{odds_ratios_df}\")  "
   ]
  },
  {
   "cell_type": "raw",
   "id": "6e0a43be",
   "metadata": {},
   "source": [
    "For binary features the odds ratio is the probability of the outcome event occurring divided by the probability of the outcome event not occurring. In other words, we can think about it as comparing the chance of positive result while belonging to a given class or not belonging to it. Our binary features are 'sex', 'fbs' and 'exng'. Considering our target variable, 1 stands for heart attack and 0 for no heart attack. Analysing odds ratios we can see that woman have 80% more chance to suffer from heart attack than man. Also excessive fasting blood sugar doubles this risk. On the other hand, exercise induced angina reduces the risk of heart attac - over 2 times. \n",
    "\n",
    "When it comes to constinous features, the variable can increase or decrease in value. Fortunately, the interpretation of an odds ratio for a continuous variable is similar and still centers around the value of one. When an OR is:\n",
    "Greater than 1: As the continuous variable increases, the event is more likely to occur.\n",
    "Less than 1: As the variable increases, the event is less likely to occur.\n",
    "Equals 1: As the variable increases, the likelihood of the event does not change.\n",
    "\n",
    "Taking that into consideration, we can deduce that:\n",
    "* being old has a bit increasing impact on the risk of heart attack\n",
    "* higher resting blood pressure, cholesterol level and number or major vessel lead to lower risk of heart attack, which is quite surprising\n",
    "* people with higher maximum heart rate achieved have by far higher risk of heart attack\n",
    "* the earlier previoud preak occurs, the higher is the risk of heart attack\n",
    "Obtained results may be quite weird and unintuitive, but that is what our dataset presents."
   ]
  },
  {
   "cell_type": "raw",
   "id": "1574b82b",
   "metadata": {},
   "source": [
    "d)"
   ]
  },
  {
   "cell_type": "code",
   "execution_count": 33,
   "id": "bd7c952d",
   "metadata": {},
   "outputs": [
    {
     "name": "stdout",
     "output_type": "stream",
     "text": [
      "Coefficients for each feature:\n",
      "\n",
      "          age       sex        cp    trtbps      chol       fbs   restecg  \\\n",
      "coef -0.27748 -1.893737  2.376665 -1.865004 -2.086161 -0.032062  0.649901   \n",
      "\n",
      "      thalachh     exng   oldpeak       slp       caa     thall  \n",
      "coef  3.504217 -1.15644 -3.134188  1.499682 -2.920797 -2.819531  \n",
      "\n"
     ]
    },
    {
     "data": {
      "text/plain": [
       "Text(0, 0.5, 'Coefficient Value')"
      ]
     },
     "execution_count": 33,
     "metadata": {},
     "output_type": "execute_result"
    },
    {
     "data": {
      "image/png": "[encoded data removed]",
      "text/plain": [
       "<Figure size 640x480 with 1 Axes>"
      ]
     },
     "metadata": {},
     "output_type": "display_data"
    }
   ],
   "source": [
    "coefficients = logreg.coef_    \n",
    "feature_names = [i for i in columns[0:-1]]\n",
    "coefficients_df = pd.DataFrame(coefficients, index=['coef'], columns=feature_names)\n",
    "print(f\"Coefficients for each feature:\\n\\n{coefficients_df}\\n\")    \n",
    "plt.plot(model_logreg.coef_.flatten())\n",
    "plt.title(' Logistic Regression coefficients')\n",
    "plt.xlabel('Feature Index')\n",
    "plt.ylabel('Coefficient Value')"
   ]
  },
  {
   "cell_type": "raw",
   "id": "b1b00dbf",
   "metadata": {},
   "source": [
    "Positive coefficients indicates positive correlation between particular feature and the target variable, negative ones imply negative correlation. The bigger the absolute value of the coefficient, the more important it is in the final prediction. Taking that into account we can see that the most important column is 'thalachh' - ee may conclude that high maximum heart rate siginificantly increase the risk of heart attack. Another 2 important features are 'caa' and 'thall' - Thalium Stress Test. The higher the result of this test and number of major vessels, the lower is the risk of heart attack."
   ]
  },
  {
   "cell_type": "raw",
   "id": "9439f13d",
   "metadata": {},
   "source": [
    "e)"
   ]
  },
  {
   "cell_type": "code",
   "execution_count": 81,
   "id": "01608969",
   "metadata": {},
   "outputs": [
    {
     "name": "stdout",
     "output_type": "stream",
     "text": [
      "Mean Squared Error: 0.17105263157894737\n",
      "R2 score: 0.3153153153153152\n",
      "Accuracy: 0.8289473684210527\n",
      "% of stripped off coefficients for L1: 0.23076923076923078\n"
     ]
    }
   ],
   "source": [
    "#Logitic Regression model with L1 penalty\n",
    "\n",
    "l1 = LogisticRegression(penalty='l1', solver='liblinear')\n",
    "l1.fit(X_train, Y_train)\n",
    "y_pred = l1.predict(X_test)\n",
    "\n",
    "acc2= accuracy_score(Y_test, y_pred)\n",
    "r22 = r2_score(Y_test, y_pred)\n",
    "MSE2 = mean_squared_error(Y_test, y_pred)\n",
    "\n",
    "print(f\"Mean Squared Error: {MSE2}\")\n",
    "print(f\"R2 score: {r22}\")\n",
    "print(f\"Accuracy: {acc2}\")\n",
    "print(f\"% of stripped off coefficients for L1: {np.mean(l1.coef_.ravel()==0)}\")"
   ]
  },
  {
   "cell_type": "raw",
   "id": "526e5521",
   "metadata": {},
   "source": [
    "f)"
   ]
  },
  {
   "cell_type": "code",
   "execution_count": 82,
   "id": "47bdb44e",
   "metadata": {},
   "outputs": [
    {
     "name": "stdout",
     "output_type": "stream",
     "text": [
      "Mean Squared Error: 0.13157894736842105\n",
      "R2 score: 0.4733194733194732\n",
      "Accuracy: 0.868421052631579\n"
     ]
    }
   ],
   "source": [
    "#Logistic Regression model with an L2 penalty:\n",
    "\n",
    "l2 = LogisticRegression(penalty='l2', C=10)\n",
    "l2.fit(X_train, Y_train)\n",
    "y_pred = l2.predict(X_test)\n",
    "\n",
    "acc3 = accuracy_score(Y_test, y_pred)\n",
    "r23 = r2_score(Y_test, y_pred)\n",
    "MSE3 = mean_squared_error(Y_test, y_pred)\n",
    "\n",
    "print(f\"Mean Squared Error: {MSE3}\")\n",
    "print(f\"R2 score: {r23}\")\n",
    "print(f\"Accuracy: {acc3}\")"
   ]
  },
  {
   "cell_type": "raw",
   "id": "10aae31a",
   "metadata": {},
   "source": [
    "g)"
   ]
  },
  {
   "cell_type": "code",
   "execution_count": 83,
   "id": "b19c2a86",
   "metadata": {},
   "outputs": [
    {
     "name": "stdout",
     "output_type": "stream",
     "text": [
      "Accuracy:\n",
      "first model:0.8421052631578947\n",
      "L1 penalty:0.8289473684210527\n",
      "L2 penalty:0.868421052631579\n",
      "\n",
      "MSE:\n",
      "first model:0.15789473684210525\n",
      "L1 penalty:0.17105263157894737\n",
      "L2 penalty:0.13157894736842105\n",
      "\n",
      "R2 score:\n",
      "first model:0.36798336798336784\n",
      "L1 penalty:0.3153153153153152\n",
      "L2 penalty:0.4733194733194732\n",
      "\n",
      "Coefficients first model:\n",
      "[[ 0.07680692 -1.83112149  2.80339256 -3.38938083 -2.25123175 -0.03281118\n",
      "   1.18952739  2.32077522 -0.50245867 -4.89474811  1.10759984 -3.35878966\n",
      "  -2.4351382 ]]\n",
      "Coefficients L1:\n",
      "[[ 0.         -1.15033559  2.1393624  -1.22666048  0.          0.\n",
      "   0.85578786  1.71443556 -0.46364995 -2.49263946  1.17965597 -2.56425417\n",
      "  -1.22867415]]\n",
      "\n",
      "Coefficients L2:\n",
      "[[-0.27625185 -1.67697017  2.5407703  -2.67630457 -1.53615183 -0.0120083\n",
      "   1.11355076  1.8319374  -0.56990382 -3.81283854  1.18381675 -3.04798062\n",
      "  -2.19188313]]\n"
     ]
    }
   ],
   "source": [
    "print(f'Accuracy:\\nfirst model:{acc1}\\nL1 penalty:{acc2}\\nL2 penalty:{acc3}\\n')\n",
    "print(f'MSE:\\nfirst model:{MSE1}\\nL1 penalty:{MSE2}\\nL2 penalty:{MSE3}\\n')\n",
    "print(f'R2 score:\\nfirst model:{r21}\\nL1 penalty:{r22}\\nL2 penalty:{r23}\\n')\n",
    "\n",
    "print(f\"Coefficients first model:\\n{logreg.coef_}\")\n",
    "print(f\"Coefficients L1:\\n{l1.coef_}\\n\")\n",
    "print(f\"Coefficients L2:\\n{l2.coef_}\")"
   ]
  },
  {
   "cell_type": "raw",
   "id": "f6755021",
   "metadata": {},
   "source": [
    "Comparing the obtained metrics we conclude that the L2 model is the best one. It has not only the highest accuracy and R2 score, but also the lowest Mean Squared Error. However, all of the models perform on quite similar and high level - the accuracy is over 0.8. As we can see, the differences in metrics are minor. The reason for that may be the fact that in initial coefficient table there are few values very close to 0. That suggests that all features are somehow useful for our prediction. Therefore, even if using L1 penalty we stripped only 23% of coefficients, we have rather worsen than improved our prediction. The L2 penalty improves the final results only slightly. This technique penalysies bigger coefficients and therefore leads to more even set of coefficients. In our case the coefficients were quite even from the stars, so L2 penalty doesn't significantly change the results. "
   ]
  },
  {
   "cell_type": "markdown",
   "id": "2ff586a7",
   "metadata": {},
   "source": [
    "### Exercise 5 "
   ]
  },
  {
   "cell_type": "code",
   "execution_count": 84,
   "id": "0a2bd118",
   "metadata": {},
   "outputs": [
    {
     "data": {
      "text/html": [
       "<div>\n",
       "<style scoped>\n",
       "    .dataframe tbody tr th:only-of-type {\n",
       "        vertical-align: middle;\n",
       "    }\n",
       "\n",
       "    .dataframe tbody tr th {\n",
       "        vertical-align: top;\n",
       "    }\n",
       "\n",
       "    .dataframe thead th {\n",
       "        text-align: right;\n",
       "    }\n",
       "</style>\n",
       "<table border=\"1\" class=\"dataframe\">\n",
       "  <thead>\n",
       "    <tr style=\"text-align: right;\">\n",
       "      <th></th>\n",
       "      <th>hair</th>\n",
       "      <th>feathers</th>\n",
       "      <th>eggs</th>\n",
       "      <th>milk</th>\n",
       "      <th>airborne</th>\n",
       "      <th>aquatic</th>\n",
       "      <th>predator</th>\n",
       "      <th>toothed</th>\n",
       "      <th>backbone</th>\n",
       "      <th>breathes</th>\n",
       "      <th>venomous</th>\n",
       "      <th>fins</th>\n",
       "      <th>legs</th>\n",
       "      <th>tail</th>\n",
       "      <th>domestic</th>\n",
       "      <th>catsize</th>\n",
       "      <th>type</th>\n",
       "    </tr>\n",
       "  </thead>\n",
       "  <tbody>\n",
       "    <tr>\n",
       "      <th>0</th>\n",
       "      <td>1</td>\n",
       "      <td>0</td>\n",
       "      <td>0</td>\n",
       "      <td>1</td>\n",
       "      <td>0</td>\n",
       "      <td>0</td>\n",
       "      <td>1</td>\n",
       "      <td>1</td>\n",
       "      <td>1</td>\n",
       "      <td>1</td>\n",
       "      <td>0</td>\n",
       "      <td>0</td>\n",
       "      <td>4</td>\n",
       "      <td>0</td>\n",
       "      <td>0</td>\n",
       "      <td>1</td>\n",
       "      <td>1</td>\n",
       "    </tr>\n",
       "    <tr>\n",
       "      <th>1</th>\n",
       "      <td>1</td>\n",
       "      <td>0</td>\n",
       "      <td>0</td>\n",
       "      <td>1</td>\n",
       "      <td>0</td>\n",
       "      <td>0</td>\n",
       "      <td>0</td>\n",
       "      <td>1</td>\n",
       "      <td>1</td>\n",
       "      <td>1</td>\n",
       "      <td>0</td>\n",
       "      <td>0</td>\n",
       "      <td>4</td>\n",
       "      <td>1</td>\n",
       "      <td>0</td>\n",
       "      <td>1</td>\n",
       "      <td>1</td>\n",
       "    </tr>\n",
       "    <tr>\n",
       "      <th>2</th>\n",
       "      <td>0</td>\n",
       "      <td>0</td>\n",
       "      <td>1</td>\n",
       "      <td>0</td>\n",
       "      <td>0</td>\n",
       "      <td>1</td>\n",
       "      <td>1</td>\n",
       "      <td>1</td>\n",
       "      <td>1</td>\n",
       "      <td>0</td>\n",
       "      <td>0</td>\n",
       "      <td>1</td>\n",
       "      <td>0</td>\n",
       "      <td>1</td>\n",
       "      <td>0</td>\n",
       "      <td>0</td>\n",
       "      <td>4</td>\n",
       "    </tr>\n",
       "    <tr>\n",
       "      <th>3</th>\n",
       "      <td>1</td>\n",
       "      <td>0</td>\n",
       "      <td>0</td>\n",
       "      <td>1</td>\n",
       "      <td>0</td>\n",
       "      <td>0</td>\n",
       "      <td>1</td>\n",
       "      <td>1</td>\n",
       "      <td>1</td>\n",
       "      <td>1</td>\n",
       "      <td>0</td>\n",
       "      <td>0</td>\n",
       "      <td>4</td>\n",
       "      <td>0</td>\n",
       "      <td>0</td>\n",
       "      <td>1</td>\n",
       "      <td>1</td>\n",
       "    </tr>\n",
       "    <tr>\n",
       "      <th>4</th>\n",
       "      <td>1</td>\n",
       "      <td>0</td>\n",
       "      <td>0</td>\n",
       "      <td>1</td>\n",
       "      <td>0</td>\n",
       "      <td>0</td>\n",
       "      <td>1</td>\n",
       "      <td>1</td>\n",
       "      <td>1</td>\n",
       "      <td>1</td>\n",
       "      <td>0</td>\n",
       "      <td>0</td>\n",
       "      <td>4</td>\n",
       "      <td>1</td>\n",
       "      <td>0</td>\n",
       "      <td>1</td>\n",
       "      <td>1</td>\n",
       "    </tr>\n",
       "    <tr>\n",
       "      <th>...</th>\n",
       "      <td>...</td>\n",
       "      <td>...</td>\n",
       "      <td>...</td>\n",
       "      <td>...</td>\n",
       "      <td>...</td>\n",
       "      <td>...</td>\n",
       "      <td>...</td>\n",
       "      <td>...</td>\n",
       "      <td>...</td>\n",
       "      <td>...</td>\n",
       "      <td>...</td>\n",
       "      <td>...</td>\n",
       "      <td>...</td>\n",
       "      <td>...</td>\n",
       "      <td>...</td>\n",
       "      <td>...</td>\n",
       "      <td>...</td>\n",
       "    </tr>\n",
       "    <tr>\n",
       "      <th>96</th>\n",
       "      <td>1</td>\n",
       "      <td>0</td>\n",
       "      <td>0</td>\n",
       "      <td>1</td>\n",
       "      <td>0</td>\n",
       "      <td>0</td>\n",
       "      <td>0</td>\n",
       "      <td>1</td>\n",
       "      <td>1</td>\n",
       "      <td>1</td>\n",
       "      <td>0</td>\n",
       "      <td>0</td>\n",
       "      <td>2</td>\n",
       "      <td>1</td>\n",
       "      <td>0</td>\n",
       "      <td>1</td>\n",
       "      <td>1</td>\n",
       "    </tr>\n",
       "    <tr>\n",
       "      <th>97</th>\n",
       "      <td>1</td>\n",
       "      <td>0</td>\n",
       "      <td>1</td>\n",
       "      <td>0</td>\n",
       "      <td>1</td>\n",
       "      <td>0</td>\n",
       "      <td>0</td>\n",
       "      <td>0</td>\n",
       "      <td>0</td>\n",
       "      <td>1</td>\n",
       "      <td>1</td>\n",
       "      <td>0</td>\n",
       "      <td>6</td>\n",
       "      <td>0</td>\n",
       "      <td>0</td>\n",
       "      <td>0</td>\n",
       "      <td>6</td>\n",
       "    </tr>\n",
       "    <tr>\n",
       "      <th>98</th>\n",
       "      <td>1</td>\n",
       "      <td>0</td>\n",
       "      <td>0</td>\n",
       "      <td>1</td>\n",
       "      <td>0</td>\n",
       "      <td>0</td>\n",
       "      <td>1</td>\n",
       "      <td>1</td>\n",
       "      <td>1</td>\n",
       "      <td>1</td>\n",
       "      <td>0</td>\n",
       "      <td>0</td>\n",
       "      <td>4</td>\n",
       "      <td>1</td>\n",
       "      <td>0</td>\n",
       "      <td>1</td>\n",
       "      <td>1</td>\n",
       "    </tr>\n",
       "    <tr>\n",
       "      <th>99</th>\n",
       "      <td>0</td>\n",
       "      <td>0</td>\n",
       "      <td>1</td>\n",
       "      <td>0</td>\n",
       "      <td>0</td>\n",
       "      <td>0</td>\n",
       "      <td>0</td>\n",
       "      <td>0</td>\n",
       "      <td>0</td>\n",
       "      <td>1</td>\n",
       "      <td>0</td>\n",
       "      <td>0</td>\n",
       "      <td>0</td>\n",
       "      <td>0</td>\n",
       "      <td>0</td>\n",
       "      <td>0</td>\n",
       "      <td>7</td>\n",
       "    </tr>\n",
       "    <tr>\n",
       "      <th>100</th>\n",
       "      <td>0</td>\n",
       "      <td>1</td>\n",
       "      <td>1</td>\n",
       "      <td>0</td>\n",
       "      <td>1</td>\n",
       "      <td>0</td>\n",
       "      <td>0</td>\n",
       "      <td>0</td>\n",
       "      <td>1</td>\n",
       "      <td>1</td>\n",
       "      <td>0</td>\n",
       "      <td>0</td>\n",
       "      <td>2</td>\n",
       "      <td>1</td>\n",
       "      <td>0</td>\n",
       "      <td>0</td>\n",
       "      <td>2</td>\n",
       "    </tr>\n",
       "  </tbody>\n",
       "</table>\n",
       "<p>101 rows × 17 columns</p>\n",
       "</div>"
      ],
      "text/plain": [
       "     hair  feathers  eggs  milk  airborne  aquatic  predator  toothed  \\\n",
       "0       1         0     0     1         0        0         1        1   \n",
       "1       1         0     0     1         0        0         0        1   \n",
       "2       0         0     1     0         0        1         1        1   \n",
       "3       1         0     0     1         0        0         1        1   \n",
       "4       1         0     0     1         0        0         1        1   \n",
       "..    ...       ...   ...   ...       ...      ...       ...      ...   \n",
       "96      1         0     0     1         0        0         0        1   \n",
       "97      1         0     1     0         1        0         0        0   \n",
       "98      1         0     0     1         0        0         1        1   \n",
       "99      0         0     1     0         0        0         0        0   \n",
       "100     0         1     1     0         1        0         0        0   \n",
       "\n",
       "     backbone  breathes  venomous  fins  legs  tail  domestic  catsize  type  \n",
       "0           1         1         0     0     4     0         0        1     1  \n",
       "1           1         1         0     0     4     1         0        1     1  \n",
       "2           1         0         0     1     0     1         0        0     4  \n",
       "3           1         1         0     0     4     0         0        1     1  \n",
       "4           1         1         0     0     4     1         0        1     1  \n",
       "..        ...       ...       ...   ...   ...   ...       ...      ...   ...  \n",
       "96          1         1         0     0     2     1         0        1     1  \n",
       "97          0         1         1     0     6     0         0        0     6  \n",
       "98          1         1         0     0     4     1         0        1     1  \n",
       "99          0         1         0     0     0     0         0        0     7  \n",
       "100         1         1         0     0     2     1         0        0     2  \n",
       "\n",
       "[101 rows x 17 columns]"
      ]
     },
     "execution_count": 84,
     "metadata": {},
     "output_type": "execute_result"
    }
   ],
   "source": [
    "Zoo_filename = \"Downloads/zoo.data\"\n",
    "columns = ['animal_name', 'hair','feathers', 'eggs', 'milk', 'airborne', 'aquatic', 'predator', 'toothed', 'backbone', 'breathes', 'venomous', 'fins', 'legs', 'tail', 'domestic', 'catsize', 'type']\n",
    "zooData = pd.read_csv(Zoo_filename, names=columns)\n",
    "zooData = zooData.drop(['animal_name'], axis=1)\n",
    "zooData"
   ]
  },
  {
   "cell_type": "raw",
   "id": "ed9faf9f",
   "metadata": {},
   "source": [
    "a)"
   ]
  },
  {
   "cell_type": "code",
   "execution_count": 85,
   "id": "51f16019",
   "metadata": {},
   "outputs": [],
   "source": [
    "X_zoo = zooData[zooData.columns[:-1]]\n",
    "Y_zoo = zooData['type']\n",
    "\n",
    "#spliting data into test and train set\n",
    "seed = random.randint(0, 100)\n",
    "X_train, X_test, Y_train, Y_test = train_test_split(X_zoo, Y_zoo,test_size=0.2, random_state=seed,stratify=Y_zoo)\n",
    "\n",
    "#scaling data\n",
    "stdScaler = StandardScaler().fit(X_train)\n",
    "X_train = stdScaler.transform(X_train)\n",
    "X_test = stdScaler.transform(X_test)\n",
    "\n",
    "#applying Logistic Regression\n",
    "logreg = LogisticRegression(penalty=None)\n",
    "logreg.fit(X_train, Y_train)\n",
    "y_pred = logreg.predict(X_test)\n"
   ]
  },
  {
   "cell_type": "raw",
   "id": "e5f1015b",
   "metadata": {},
   "source": [
    "b)"
   ]
  },
  {
   "cell_type": "code",
   "execution_count": 86,
   "id": "8dcf9122",
   "metadata": {},
   "outputs": [
    {
     "name": "stdout",
     "output_type": "stream",
     "text": [
      "Mean Squared Error: 0.9523809523809523\n",
      "R2 score: 0.7848360655737705\n",
      "Accuracy: 0.9047619047619048\n"
     ]
    }
   ],
   "source": [
    "from sklearn import metrics\n",
    "\n",
    "#calculating classification metrics\n",
    "cm = confusion_matrix(Y_test, y_pred)\n",
    "acc1= accuracy_score(Y_test, y_pred)\n",
    "r21 = r2_score(Y_test, y_pred)\n",
    "MSE1 = mean_squared_error(Y_test, y_pred)\n",
    "\n",
    "print(f\"Mean Squared Error: {MSE1}\")\n",
    "print(f\"R2 score: {r21}\")\n",
    "print(f\"Accuracy: {acc1}\")\n"
   ]
  },
  {
   "cell_type": "raw",
   "id": "5fdd4ed5",
   "metadata": {},
   "source": [
    "c)"
   ]
  },
  {
   "cell_type": "code",
   "execution_count": 49,
   "id": "6d5c9e4c",
   "metadata": {},
   "outputs": [
    {
     "name": "stdout",
     "output_type": "stream",
     "text": [
      "Odds ratios for each class and feature:\n",
      "\n",
      "            hair    feathers      eggs       milk   airborne     aquatic  \\\n",
      "class1  9.993901    0.267527  0.020764  53.053550   0.610780    0.931128   \n",
      "class2  0.587539  313.243235  1.750499   0.587590   5.090932    1.072216   \n",
      "class3  0.195517    0.037293  9.239776   0.184732   0.409788    0.004097   \n",
      "class4  1.218632    0.856252  2.872045   0.345109   0.998455    2.578259   \n",
      "class5  0.477271    0.508954  2.456894   0.423178   0.572947  201.658673   \n",
      "class6  2.924764    1.024892  4.604615   1.086639  12.729324    0.132495   \n",
      "class7  0.512052    0.716412  0.091642   1.094217   0.107773    3.548709   \n",
      "\n",
      "         predator   toothed   backbone  breathes  venomous       fins  \\\n",
      "class1   0.735274  9.272189   3.307854  4.066354  0.423519   2.639478   \n",
      "class2   1.439429  0.112493   2.190535  1.803087  0.628513   0.567926   \n",
      "class3   1.052015  1.991705  11.035121  2.527140  2.102063   0.387517   \n",
      "class4   0.746121  1.908486   1.603593  0.020280  2.824276  17.536098   \n",
      "class5   0.759580  8.247177   5.066778  6.860551  0.594565   0.310879   \n",
      "class6   0.149355  0.730300   0.172610  8.925756  0.244126   2.318416   \n",
      "class7  10.610485  0.041877   0.008917  0.043459  4.359598   0.136202   \n",
      "\n",
      "              legs      tail  domestic   catsize  \n",
      "class1    0.575651  1.308331  1.583697  2.792106  \n",
      "class2    0.282332  2.683122  1.337281  2.113363  \n",
      "class3    0.743288  9.458603  0.712443  1.401389  \n",
      "class4    0.272588  2.366357  1.420384  0.936327  \n",
      "class5    4.536062  0.188837  0.814619  0.242838  \n",
      "class6  111.159261  0.124234  0.808884  0.457942  \n",
      "class7    0.060227  0.542509  0.708124  1.161395  \n"
     ]
    }
   ],
   "source": [
    "logreg.coef_\n",
    "coefficients = logreg.coef_\n",
    "odds_ratios = np.exp(coefficients)\n",
    "    \n",
    "class_names = ['class1', 'class2', 'class3', 'class4', 'class5', 'class6', 'class7']\n",
    "feature_names = [i for i in columns[1:-1]]\n",
    "odds_ratios_df = pd.DataFrame(odds_ratios, index=class_names, columns=feature_names)\n",
    "print(f\"Odds ratios for each class and feature:\\n\\n{odds_ratios_df}\")    "
   ]
  },
  {
   "cell_type": "raw",
   "id": "61491632",
   "metadata": {},
   "source": [
    "Analysing the obtained odds ratios we can deduce that 'hair', 'toothed', milk' and 'catsize' are the features typical for class 1. 'Feathers' are frequent in class 2, as well as 'airbones'. However, 'airbones' are more typical for class 6. Present in class 5 are also features 'aquatic', 'toothed' and 'breathes'. 'Predator' and 'venomous' features are the most popular in class 7. Class 3 features are 'backbone', 'eggs' and 'tail'. The presence of fins leads us to class 4, while having legs suggests class 6. Feature 'domestic' is not characteristic for any of the classes. "
   ]
  },
  {
   "cell_type": "raw",
   "id": "12ded8e4",
   "metadata": {},
   "source": [
    "d)"
   ]
  },
  {
   "cell_type": "code",
   "execution_count": 50,
   "id": "059565b8",
   "metadata": {
    "scrolled": true
   },
   "outputs": [
    {
     "name": "stdout",
     "output_type": "stream",
     "text": [
      "Coefficients for each class and feature:\n",
      "\n",
      "            hair  feathers      eggs      milk  airborne   aquatic  predator  \\\n",
      "class1  2.301975 -1.318534 -3.874529  3.971302 -0.493018 -0.071359 -0.307512   \n",
      "class2 -0.531812  5.746980  0.559901 -0.531726  1.627461  0.069727  0.364246   \n",
      "class3 -1.632106 -3.288945  2.223518 -1.688847 -0.892116 -5.497432  0.050708   \n",
      "class4  0.197729 -0.155190  1.055024 -1.063895 -0.001546  0.947114 -0.292868   \n",
      "class5 -0.739670 -0.675398  0.898898 -0.859963 -0.556962  5.306577 -0.274990   \n",
      "class6  1.073214  0.024587  1.527059  0.083090  2.543908 -2.021211 -1.901427   \n",
      "class7 -0.669330 -0.333500 -2.389871  0.090039 -2.227727  1.266584  2.361843   \n",
      "\n",
      "         toothed  backbone  breathes  venomous      fins      legs      tail  \\\n",
      "class1  2.227019  1.196300  1.402747 -0.859157  0.970581 -0.552255  0.268752   \n",
      "class2 -2.184863  0.784146  0.589500 -0.464399 -0.565765 -1.264671  0.986981   \n",
      "class3  0.688991  2.401083  0.927088  0.742919 -0.947995 -0.296672  2.246925   \n",
      "class4  0.646310  0.472247 -3.898120  1.038252  2.864261 -1.299795  0.861352   \n",
      "class5  2.109871  1.622705  1.925788 -0.519926 -1.168353  1.512059 -1.666869   \n",
      "class6 -0.314299 -1.756722  2.188941 -1.410069  0.840884  4.710964 -2.085589   \n",
      "class7 -3.173030 -4.719758 -3.135944  1.472380 -1.993614 -2.809631 -0.611551   \n",
      "\n",
      "        domestic   catsize  \n",
      "class1  0.459762  1.026796  \n",
      "class2  0.290638  0.748281  \n",
      "class3 -0.339056  0.337464  \n",
      "class4  0.350927 -0.065791  \n",
      "class5 -0.205035 -1.415359  \n",
      "class6 -0.212100 -0.781012  \n",
      "class7 -0.345137  0.149622  \n",
      "\n"
     ]
    },
    {
     "data": {
      "text/plain": [
       "Text(0, 0.5, 'Coefficient Value')"
      ]
     },
     "execution_count": 50,
     "metadata": {},
     "output_type": "execute_result"
    },
    {
     "data": {
      "image/png": "[encoded data removed]",
      "text/plain": [
       "<Figure size 640x480 with 1 Axes>"
      ]
     },
     "metadata": {},
     "output_type": "display_data"
    }
   ],
   "source": [
    "coefficients = logreg.coef_    \n",
    "class_names = ['class1', 'class2', 'class3', 'class4', 'class5', 'class6', 'class7']\n",
    "feature_names = [i for i in columns[1:-1]]\n",
    "coefficients_df = pd.DataFrame(coefficients, index=class_names, columns=feature_names)\n",
    "print(f\"Coefficients for each class and feature:\\n\\n{coefficients_df}\\n\")    \n",
    "plt.plot(log_reg.coef_.flatten())\n",
    "plt.title(' Logistic Regression coefficients')\n",
    "plt.xlabel('Feature Index')\n",
    "plt.ylabel('Coefficient Value')\n"
   ]
  },
  {
   "cell_type": "raw",
   "id": "5390d3fc",
   "metadata": {},
   "source": [
    "The higher the absolute value of the coefficient, the more important is the feature for our final prediction. Therefore we can come to the following conclusions:\n",
    "class 1 - the most important feature is 'milk', which is almos twice as important as the rest of the features; not only does it have the highest coefficient, but also rarely appears in other classes; lack of eggs also leads us to this class;\n",
    "class 2 - feature 'feathers' is undoubtedly the most useful column for predicting this class; other features are rather of little importance\n",
    "class 3 - in contrary to previous classes, it is rather important not to have one feature - 'aquatic'\n",
    "class 4 - similarly to the class 3 example, absence of the perticular featrue is determining; for this class typical is 0 in column breathing\n",
    "class 5 - it is definitely an aquatic animal, this feature is by far the most important one\n",
    "class 6 - presence of legs is a crucial feature for this class\n",
    "class 7 - in this case the most significant is the lack of backbone and teeth"
   ]
  },
  {
   "cell_type": "raw",
   "id": "e8dc01f3",
   "metadata": {},
   "source": [
    "e)"
   ]
  },
  {
   "cell_type": "code",
   "execution_count": 87,
   "id": "a00461db",
   "metadata": {},
   "outputs": [
    {
     "name": "stdout",
     "output_type": "stream",
     "text": [
      "Mean Squared Error: 0.2857142857142857\n",
      "R2 score: 0.9354508196721312\n",
      "Accuracy: 0.8571428571428571\n",
      "% of stripped off coefficients for L1: 0.6607142857142857\n"
     ]
    }
   ],
   "source": [
    "#Logitic Regression model with L1 penalty\n",
    "\n",
    "l1 = LogisticRegression(penalty='l1', solver='liblinear')\n",
    "l1.fit(X_train, Y_train)\n",
    "y_pred = l1.predict(X_test)\n",
    "\n",
    "acc2= accuracy_score(Y_test, y_pred)\n",
    "r22 = r2_score(Y_test, y_pred)\n",
    "MSE2 = mean_squared_error(Y_test, y_pred)\n",
    "\n",
    "print(f\"Mean Squared Error: {MSE2}\")\n",
    "print(f\"R2 score: {r22}\")\n",
    "print(f\"Accuracy: {acc2}\")\n",
    "print(f\"% of stripped off coefficients for L1: {np.mean(l1.coef_.ravel()==0)}\")"
   ]
  },
  {
   "cell_type": "raw",
   "id": "5a2b624e",
   "metadata": {},
   "source": [
    "f)"
   ]
  },
  {
   "cell_type": "code",
   "execution_count": 88,
   "id": "50927ca1",
   "metadata": {},
   "outputs": [
    {
     "name": "stdout",
     "output_type": "stream",
     "text": [
      "Mean Squared Error: 0.23809523809523808\n",
      "R2 score: 0.9462090163934426\n",
      "Accuracy: 0.9047619047619048\n"
     ]
    }
   ],
   "source": [
    "#Logistic Regression model with an L2 penalty:\n",
    "\n",
    "l2 = LogisticRegression(penalty='l2')\n",
    "l2.fit(X_train, Y_train)\n",
    "y_pred = l2.predict(X_test)\n",
    "\n",
    "acc3= accuracy_score(Y_test, y_pred)\n",
    "r23 = r2_score(Y_test, y_pred)\n",
    "MSE3 = mean_squared_error(Y_test, y_pred)\n",
    "\n",
    "print(f\"Mean Squared Error: {MSE3}\")\n",
    "print(f\"R2 score: {r23}\")\n",
    "print(f\"Accuracy: {acc3}\")"
   ]
  },
  {
   "cell_type": "raw",
   "id": "159976e1",
   "metadata": {},
   "source": [
    "g)"
   ]
  },
  {
   "cell_type": "code",
   "execution_count": 89,
   "id": "e39085b2",
   "metadata": {},
   "outputs": [
    {
     "name": "stdout",
     "output_type": "stream",
     "text": [
      "Accuracy:\n",
      "first model:0.9047619047619048\n",
      "L1 penalty:0.8571428571428571\n",
      "L2 penalty:0.9047619047619048\n",
      "\n",
      "MSE:\n",
      "first model:0.9523809523809523\n",
      "L1 penalty:0.2857142857142857\n",
      "L2 penalty:0.23809523809523808\n",
      "\n",
      "R2 score:\n",
      "first model:0.7848360655737705\n",
      "L1 penalty:0.9354508196721312\n",
      "L2 penalty:0.9462090163934426\n",
      "\n"
     ]
    }
   ],
   "source": [
    "print(f'Accuracy:\\nfirst model:{acc1}\\nL1 penalty:{acc2}\\nL2 penalty:{acc3}\\n')\n",
    "print(f'MSE:\\nfirst model:{MSE1}\\nL1 penalty:{MSE2}\\nL2 penalty:{MSE3}\\n')\n",
    "print(f'R2 score:\\nfirst model:{r21}\\nL1 penalty:{r22}\\nL2 penalty:{r23}\\n')\n"
   ]
  },
  {
   "cell_type": "raw",
   "id": "c40d07b3",
   "metadata": {},
   "source": [
    "Comparing the obtained accuracies and metrics we may see that our models perform very well - they are accurate in over 90% of cases. First model and model with L2 penalty perform equally good and those are the best models. L2 didn't improve our predictions probably because it is supposed to prevent our model from overfitting. However, as we can see in the coefficients, usually only one feature is actually significant for determining the class. Therefore, even if we balance the importance of columns with L2 penalty, the differences are still clear. On the other hand, L1 model has slighlty worse predictions than other models. The reason for that may be the fact that it neglected features that may not have a strong impact on prediction, but yet are helpful to achieve accurate results. "
   ]
  }
 ],
 "metadata": {
  "kernelspec": {
   "display_name": "Python 3 (ipykernel)",
   "language": "python",
   "name": "python3"
  },
  "language_info": {
   "codemirror_mode": {
    "name": "ipython",
    "version": 3
   },
   "file_extension": ".py",
   "mimetype": "text/x-python",
   "name": "python",
   "nbconvert_exporter": "python",
   "pygments_lexer": "ipython3",
   "version": "3.11.5"
  }
 },
 "nbformat": 4,
 "nbformat_minor": 5
}
